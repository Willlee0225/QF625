{
 "cells": [
  {
   "cell_type": "markdown",
   "metadata": {},
   "source": [
    "# QF 625 Introduction to Programming"
   ]
  },
  {
   "cell_type": "markdown",
   "metadata": {},
   "source": [
    "## Lesson 08 | An Introduction to Predictive Modeling Part 1 | `RE`view"
   ]
  },
  {
   "cell_type": "markdown",
   "metadata": {},
   "source": [
    "### Problem Statement"
   ]
  },
  {
   "cell_type": "markdown",
   "metadata": {},
   "source": [
    "> Identify your Y and X variables."
   ]
  },
  {
   "cell_type": "markdown",
   "metadata": {},
   "source": [
    "> Let's begin solving our problem."
   ]
  },
  {
   "cell_type": "markdown",
   "metadata": {},
   "source": [
    "> Let's import necessary packages first :)"
   ]
  },
  {
   "cell_type": "code",
   "execution_count": 1,
   "metadata": {},
   "outputs": [],
   "source": [
    "import numpy as np\n",
    "import matplotlib.pyplot as plt\n",
    "from matplotlib import rcParams\n",
    "import pandas as pd\n",
    "\n",
    "%matplotlib inline"
   ]
  },
  {
   "cell_type": "markdown",
   "metadata": {},
   "source": [
    "#### Key Variables (a.k.a., Features)"
   ]
  },
  {
   "cell_type": "markdown",
   "metadata": {},
   "source": [
    "- `budget`: Wealth begets wealth, goes the old adage. For studios looking to make a splash, how important are the investment dollars put against a production?\n",
    "\n",
    "- `studio`: Do movie production houses like Warner Bros. or Universal have a power of their own, besides the factors listed above?\n",
    "\n",
    "- `season`: How does a release around Christmas or the summer vacation affect the outcomes of a movie?\n",
    "\n",
    "- `opening`: Film industry experts love the `Opening Weekend` phenomenon, but just how much does the first 4 days of a movie's release truly matter?\n",
    "\n",
    "- `opening theaters`: Does the scale of release during the opening weekend affect a movie?\n",
    "\n",
    "- `rating`: Does how `good` the movie is actually matter? We leverage the [IMDb rating](https://www.imdb.com/) as a proxy for the `inherent level of quality` of the movie. \n",
    "\n",
    "- `mpaa`: For the kids, the parents, or the young adults?"
   ]
  },
  {
   "cell_type": "markdown",
   "metadata": {},
   "source": [
    "### IMPORT"
   ]
  },
  {
   "cell_type": "code",
   "execution_count": 2,
   "metadata": {},
   "outputs": [
    {
     "data": {
      "text/html": [
       "<div>\n",
       "<style scoped>\n",
       "    .dataframe tbody tr th:only-of-type {\n",
       "        vertical-align: middle;\n",
       "    }\n",
       "\n",
       "    .dataframe tbody tr th {\n",
       "        vertical-align: top;\n",
       "    }\n",
       "\n",
       "    .dataframe thead th {\n",
       "        text-align: right;\n",
       "    }\n",
       "</style>\n",
       "<table border=\"1\" class=\"dataframe\">\n",
       "  <thead>\n",
       "    <tr style=\"text-align: right;\">\n",
       "      <th></th>\n",
       "      <th>gross</th>\n",
       "      <th>rating</th>\n",
       "      <th>opening</th>\n",
       "      <th>mpaa</th>\n",
       "      <th>opening theaters</th>\n",
       "      <th>title</th>\n",
       "      <th>budget</th>\n",
       "      <th>rank</th>\n",
       "      <th>studio</th>\n",
       "      <th>year</th>\n",
       "      <th>close</th>\n",
       "      <th>open</th>\n",
       "      <th>season</th>\n",
       "    </tr>\n",
       "  </thead>\n",
       "  <tbody>\n",
       "    <tr>\n",
       "      <th>0</th>\n",
       "      <td>$515,005</td>\n",
       "      <td>NaN</td>\n",
       "      <td>$220,542</td>\n",
       "      <td>NaN</td>\n",
       "      <td>102</td>\n",
       "      <td>A Hard Day's Night</td>\n",
       "      <td>560000.0</td>\n",
       "      <td>252</td>\n",
       "      <td>Jan.</td>\n",
       "      <td>2014</td>\n",
       "      <td>Jul-20</td>\n",
       "      <td>7-Apr</td>\n",
       "      <td>June-Sep</td>\n",
       "    </tr>\n",
       "    <tr>\n",
       "      <th>1</th>\n",
       "      <td>$16,734</td>\n",
       "      <td>5.7</td>\n",
       "      <td>$6,193</td>\n",
       "      <td>NaN</td>\n",
       "      <td>1</td>\n",
       "      <td>Inventing Our Life: The Kibbutz Experiment</td>\n",
       "      <td>NaN</td>\n",
       "      <td>513</td>\n",
       "      <td>FRun</td>\n",
       "      <td>2012</td>\n",
       "      <td>-</td>\n",
       "      <td>Apr-27</td>\n",
       "      <td>Jan-May</td>\n",
       "    </tr>\n",
       "    <tr>\n",
       "      <th>2</th>\n",
       "      <td>$4,640</td>\n",
       "      <td>4.4</td>\n",
       "      <td>$2,552</td>\n",
       "      <td>NaN</td>\n",
       "      <td>1</td>\n",
       "      <td>Hotel Normandy</td>\n",
       "      <td>NaN</td>\n",
       "      <td>624</td>\n",
       "      <td>Rialto</td>\n",
       "      <td>2013</td>\n",
       "      <td>11-Mar</td>\n",
       "      <td>Sep-27</td>\n",
       "      <td>June-Sep</td>\n",
       "    </tr>\n",
       "    <tr>\n",
       "      <th>3</th>\n",
       "      <td>$42,024,533</td>\n",
       "      <td>6.4</td>\n",
       "      <td>$15,873,397</td>\n",
       "      <td>Rated PG for some mild  thematic elements</td>\n",
       "      <td>3,656</td>\n",
       "      <td>Dolphin Tale 2</td>\n",
       "      <td>36000000.0</td>\n",
       "      <td>79</td>\n",
       "      <td>WB</td>\n",
       "      <td>2014</td>\n",
       "      <td>Dec-18</td>\n",
       "      <td>9-Dec</td>\n",
       "      <td>June-Sep</td>\n",
       "    </tr>\n",
       "    <tr>\n",
       "      <th>4</th>\n",
       "      <td>$5,704,709</td>\n",
       "      <td>6.5</td>\n",
       "      <td>$167,953</td>\n",
       "      <td>Rated R for sexual content and brief language</td>\n",
       "      <td>4</td>\n",
       "      <td>A Dangerous Method</td>\n",
       "      <td>20000000.0</td>\n",
       "      <td>152</td>\n",
       "      <td>SPC</td>\n",
       "      <td>2011</td>\n",
       "      <td>5-Mar</td>\n",
       "      <td>Nov-23</td>\n",
       "      <td>Oct-Nov</td>\n",
       "    </tr>\n",
       "    <tr>\n",
       "      <th>...</th>\n",
       "      <td>...</td>\n",
       "      <td>...</td>\n",
       "      <td>...</td>\n",
       "      <td>...</td>\n",
       "      <td>...</td>\n",
       "      <td>...</td>\n",
       "      <td>...</td>\n",
       "      <td>...</td>\n",
       "      <td>...</td>\n",
       "      <td>...</td>\n",
       "      <td>...</td>\n",
       "      <td>...</td>\n",
       "      <td>...</td>\n",
       "    </tr>\n",
       "    <tr>\n",
       "      <th>3088</th>\n",
       "      <td>$12,971</td>\n",
       "      <td>7.4</td>\n",
       "      <td>$9,612</td>\n",
       "      <td>NaN</td>\n",
       "      <td>10</td>\n",
       "      <td>Bloodworth</td>\n",
       "      <td>NaN</td>\n",
       "      <td>520</td>\n",
       "      <td>Gold.</td>\n",
       "      <td>2011</td>\n",
       "      <td>May-26</td>\n",
       "      <td>May-20</td>\n",
       "      <td>Jan-May</td>\n",
       "    </tr>\n",
       "    <tr>\n",
       "      <th>3089</th>\n",
       "      <td>$7,078</td>\n",
       "      <td>NaN</td>\n",
       "      <td>$3,562</td>\n",
       "      <td>NaN</td>\n",
       "      <td>11</td>\n",
       "      <td>Stage Fright</td>\n",
       "      <td>NaN</td>\n",
       "      <td>613</td>\n",
       "      <td>Magn.</td>\n",
       "      <td>2014</td>\n",
       "      <td>6-May</td>\n",
       "      <td>5-Sep</td>\n",
       "      <td>Jan-May</td>\n",
       "    </tr>\n",
       "    <tr>\n",
       "      <th>3090</th>\n",
       "      <td>$814,906</td>\n",
       "      <td>6.6</td>\n",
       "      <td>$49,770</td>\n",
       "      <td>NaN</td>\n",
       "      <td>23</td>\n",
       "      <td>What If...</td>\n",
       "      <td>NaN</td>\n",
       "      <td>203</td>\n",
       "      <td>5&amp;2</td>\n",
       "      <td>2010</td>\n",
       "      <td>Feb-24</td>\n",
       "      <td>Aug-20</td>\n",
       "      <td>June-Sep</td>\n",
       "    </tr>\n",
       "    <tr>\n",
       "      <th>3091</th>\n",
       "      <td>$17,303,424</td>\n",
       "      <td>7.0</td>\n",
       "      <td>$7,601,379</td>\n",
       "      <td>NaN</td>\n",
       "      <td>2,655</td>\n",
       "      <td>Inkheart</td>\n",
       "      <td>60000000.0</td>\n",
       "      <td>114</td>\n",
       "      <td>WB (NL)</td>\n",
       "      <td>2009</td>\n",
       "      <td>4-Sep</td>\n",
       "      <td>Jan-23</td>\n",
       "      <td>Jan-May</td>\n",
       "    </tr>\n",
       "    <tr>\n",
       "      <th>3092</th>\n",
       "      <td>$22,282</td>\n",
       "      <td>5.8</td>\n",
       "      <td>$10,324</td>\n",
       "      <td>NaN</td>\n",
       "      <td>5</td>\n",
       "      <td>Downloading Nancy</td>\n",
       "      <td>NaN</td>\n",
       "      <td>420</td>\n",
       "      <td>Strand</td>\n",
       "      <td>2009</td>\n",
       "      <td>9-Mar</td>\n",
       "      <td>6-May</td>\n",
       "      <td>June-Sep</td>\n",
       "    </tr>\n",
       "  </tbody>\n",
       "</table>\n",
       "<p>3093 rows × 13 columns</p>\n",
       "</div>"
      ],
      "text/plain": [
       "             gross  rating       opening  \\\n",
       "0        $515,005      NaN     $220,542    \n",
       "1         $16,734      5.7       $6,193    \n",
       "2          $4,640      4.4       $2,552    \n",
       "3     $42,024,533      6.4  $15,873,397    \n",
       "4      $5,704,709      6.5     $167,953    \n",
       "...            ...     ...           ...   \n",
       "3088      $12,971      7.4       $9,612    \n",
       "3089       $7,078      NaN       $3,562    \n",
       "3090     $814,906      6.6      $49,770    \n",
       "3091  $17,303,424      7.0   $7,601,379    \n",
       "3092      $22,282      5.8      $10,324    \n",
       "\n",
       "                                               mpaa opening theaters  \\\n",
       "0                                               NaN              102   \n",
       "1                                               NaN                1   \n",
       "2                                               NaN                1   \n",
       "3         Rated PG for some mild  thematic elements            3,656   \n",
       "4     Rated R for sexual content and brief language                4   \n",
       "...                                             ...              ...   \n",
       "3088                                            NaN               10   \n",
       "3089                                            NaN               11   \n",
       "3090                                            NaN               23   \n",
       "3091                                            NaN            2,655   \n",
       "3092                                            NaN                5   \n",
       "\n",
       "                                           title      budget  rank   studio  \\\n",
       "0                            A Hard Day's Night     560000.0   252     Jan.   \n",
       "1     Inventing Our Life: The Kibbutz Experiment         NaN   513     FRun   \n",
       "2                                 Hotel Normandy         NaN   624   Rialto   \n",
       "3                                 Dolphin Tale 2  36000000.0    79       WB   \n",
       "4                             A Dangerous Method  20000000.0   152      SPC   \n",
       "...                                          ...         ...   ...      ...   \n",
       "3088                                  Bloodworth         NaN   520    Gold.   \n",
       "3089                               Stage Fright          NaN   613    Magn.   \n",
       "3090                                  What If...         NaN   203      5&2   \n",
       "3091                                    Inkheart  60000000.0   114  WB (NL)   \n",
       "3092                           Downloading Nancy         NaN   420   Strand   \n",
       "\n",
       "      year   close    open    season  \n",
       "0     2014  Jul-20   7-Apr  June-Sep  \n",
       "1     2012       -  Apr-27   Jan-May  \n",
       "2     2013  11-Mar  Sep-27  June-Sep  \n",
       "3     2014  Dec-18   9-Dec  June-Sep  \n",
       "4     2011   5-Mar  Nov-23   Oct-Nov  \n",
       "...    ...     ...     ...       ...  \n",
       "3088  2011  May-26  May-20   Jan-May  \n",
       "3089  2014   6-May   5-Sep   Jan-May  \n",
       "3090  2010  Feb-24  Aug-20  June-Sep  \n",
       "3091  2009   4-Sep  Jan-23   Jan-May  \n",
       "3092  2009   9-Mar   6-May  June-Sep  \n",
       "\n",
       "[3093 rows x 13 columns]"
      ]
     },
     "execution_count": 2,
     "metadata": {},
     "output_type": "execute_result"
    }
   ],
   "source": [
    "film = pd.read_csv(\"revenue_movies.csv\")\n",
    "film"
   ]
  },
  {
   "cell_type": "markdown",
   "metadata": {},
   "source": [
    "### Wrangle"
   ]
  },
  {
   "cell_type": "markdown",
   "metadata": {},
   "source": [
    "> Let's cull the dataset down to ensure we have `non-null responses` in our keys variables"
   ]
  },
  {
   "cell_type": "code",
   "execution_count": 3,
   "metadata": {},
   "outputs": [
    {
     "data": {
      "text/html": [
       "<div>\n",
       "<style scoped>\n",
       "    .dataframe tbody tr th:only-of-type {\n",
       "        vertical-align: middle;\n",
       "    }\n",
       "\n",
       "    .dataframe tbody tr th {\n",
       "        vertical-align: top;\n",
       "    }\n",
       "\n",
       "    .dataframe thead th {\n",
       "        text-align: right;\n",
       "    }\n",
       "</style>\n",
       "<table border=\"1\" class=\"dataframe\">\n",
       "  <thead>\n",
       "    <tr style=\"text-align: right;\">\n",
       "      <th></th>\n",
       "      <th>gross</th>\n",
       "      <th>rating</th>\n",
       "      <th>opening</th>\n",
       "      <th>mpaa</th>\n",
       "      <th>opening theaters</th>\n",
       "      <th>title</th>\n",
       "      <th>budget</th>\n",
       "      <th>rank</th>\n",
       "      <th>studio</th>\n",
       "      <th>year</th>\n",
       "      <th>close</th>\n",
       "      <th>open</th>\n",
       "      <th>season</th>\n",
       "    </tr>\n",
       "  </thead>\n",
       "  <tbody>\n",
       "    <tr>\n",
       "      <th>3</th>\n",
       "      <td>$42,024,533</td>\n",
       "      <td>6.4</td>\n",
       "      <td>$15,873,397</td>\n",
       "      <td>Rated PG for some mild  thematic elements</td>\n",
       "      <td>3,656</td>\n",
       "      <td>Dolphin Tale 2</td>\n",
       "      <td>36000000.0</td>\n",
       "      <td>79</td>\n",
       "      <td>WB</td>\n",
       "      <td>2014</td>\n",
       "      <td>Dec-18</td>\n",
       "      <td>9-Dec</td>\n",
       "      <td>June-Sep</td>\n",
       "    </tr>\n",
       "    <tr>\n",
       "      <th>4</th>\n",
       "      <td>$5,704,709</td>\n",
       "      <td>6.5</td>\n",
       "      <td>$167,953</td>\n",
       "      <td>Rated R for sexual content and brief language</td>\n",
       "      <td>4</td>\n",
       "      <td>A Dangerous Method</td>\n",
       "      <td>20000000.0</td>\n",
       "      <td>152</td>\n",
       "      <td>SPC</td>\n",
       "      <td>2011</td>\n",
       "      <td>5-Mar</td>\n",
       "      <td>Nov-23</td>\n",
       "      <td>Oct-Nov</td>\n",
       "    </tr>\n",
       "    <tr>\n",
       "      <th>11</th>\n",
       "      <td>$447,954</td>\n",
       "      <td>5.3</td>\n",
       "      <td>$181,494</td>\n",
       "      <td>Rated R for sexual content, pervasive language...</td>\n",
       "      <td>47</td>\n",
       "      <td>Bachelorette</td>\n",
       "      <td>3000000.0</td>\n",
       "      <td>254</td>\n",
       "      <td>RTWC</td>\n",
       "      <td>2012</td>\n",
       "      <td>10-Nov</td>\n",
       "      <td>9-Jul</td>\n",
       "      <td>June-Sep</td>\n",
       "    </tr>\n",
       "    <tr>\n",
       "      <th>13</th>\n",
       "      <td>$60,128,566</td>\n",
       "      <td>5.9</td>\n",
       "      <td>$26,650,264</td>\n",
       "      <td>Rated R for sequences of strong violence and l...</td>\n",
       "      <td>3,203</td>\n",
       "      <td>Resident Evil: Afterlife</td>\n",
       "      <td>57500000.0</td>\n",
       "      <td>55</td>\n",
       "      <td>SGem</td>\n",
       "      <td>2010</td>\n",
       "      <td>11-Apr</td>\n",
       "      <td>9-Oct</td>\n",
       "      <td>June-Sep</td>\n",
       "    </tr>\n",
       "    <tr>\n",
       "      <th>21</th>\n",
       "      <td>$11,774</td>\n",
       "      <td>5.7</td>\n",
       "      <td>$8,691</td>\n",
       "      <td>Rated R for violence throughout, and some sexu...</td>\n",
       "      <td>10</td>\n",
       "      <td>Falcon Rising</td>\n",
       "      <td>4500000.0</td>\n",
       "      <td>563</td>\n",
       "      <td>Free</td>\n",
       "      <td>2014</td>\n",
       "      <td>9-Nov</td>\n",
       "      <td>9-May</td>\n",
       "      <td>June-Sep</td>\n",
       "    </tr>\n",
       "    <tr>\n",
       "      <th>...</th>\n",
       "      <td>...</td>\n",
       "      <td>...</td>\n",
       "      <td>...</td>\n",
       "      <td>...</td>\n",
       "      <td>...</td>\n",
       "      <td>...</td>\n",
       "      <td>...</td>\n",
       "      <td>...</td>\n",
       "      <td>...</td>\n",
       "      <td>...</td>\n",
       "      <td>...</td>\n",
       "      <td>...</td>\n",
       "      <td>...</td>\n",
       "    </tr>\n",
       "    <tr>\n",
       "      <th>3073</th>\n",
       "      <td>$209,837,675</td>\n",
       "      <td>7.3</td>\n",
       "      <td>$86,198,765</td>\n",
       "      <td>Rated PG-13 for intense sequences of violence ...</td>\n",
       "      <td>3,644</td>\n",
       "      <td>Fast Five</td>\n",
       "      <td>125000000.0</td>\n",
       "      <td>6</td>\n",
       "      <td>Uni.</td>\n",
       "      <td>2011</td>\n",
       "      <td>8-Nov</td>\n",
       "      <td>Apr-29</td>\n",
       "      <td>Jan-May</td>\n",
       "    </tr>\n",
       "    <tr>\n",
       "      <th>3074</th>\n",
       "      <td>$150,201,498</td>\n",
       "      <td>5.8</td>\n",
       "      <td>$54,713,046</td>\n",
       "      <td>Rated PG-13 for strong sequences of action vio...</td>\n",
       "      <td>4,007</td>\n",
       "      <td>G.I. Joe: The Rise of Cobra</td>\n",
       "      <td>175000000.0</td>\n",
       "      <td>18</td>\n",
       "      <td>Par.</td>\n",
       "      <td>2009</td>\n",
       "      <td>11-May</td>\n",
       "      <td>8-Jul</td>\n",
       "      <td>June-Sep</td>\n",
       "    </tr>\n",
       "    <tr>\n",
       "      <th>3075</th>\n",
       "      <td>$27,693,292</td>\n",
       "      <td>6.0</td>\n",
       "      <td>$14,118,444</td>\n",
       "      <td>Rated R for sequences of grisly bloody violenc...</td>\n",
       "      <td>3,036</td>\n",
       "      <td>Saw VI</td>\n",
       "      <td>11000000.0</td>\n",
       "      <td>98</td>\n",
       "      <td>LGF</td>\n",
       "      <td>2009</td>\n",
       "      <td>Nov-24</td>\n",
       "      <td>Oct-23</td>\n",
       "      <td>Oct-Nov</td>\n",
       "    </tr>\n",
       "    <tr>\n",
       "      <th>3076</th>\n",
       "      <td>$125,322,469</td>\n",
       "      <td>6.6</td>\n",
       "      <td>$42,558,390</td>\n",
       "      <td>Rated PG-13 for intense sequences of sci-fi vi...</td>\n",
       "      <td>3,530</td>\n",
       "      <td>Terminator Salvation</td>\n",
       "      <td>200000000.0</td>\n",
       "      <td>23</td>\n",
       "      <td>WB</td>\n",
       "      <td>2009</td>\n",
       "      <td>9-Oct</td>\n",
       "      <td>May-21</td>\n",
       "      <td>Jan-May</td>\n",
       "    </tr>\n",
       "    <tr>\n",
       "      <th>3081</th>\n",
       "      <td>$8,323,085</td>\n",
       "      <td>7.1</td>\n",
       "      <td>$84,283</td>\n",
       "      <td>Rated PG-13 for some intense sequences of viol...</td>\n",
       "      <td>4</td>\n",
       "      <td>Mandela: Long Walk to Freedom</td>\n",
       "      <td>35000000.0</td>\n",
       "      <td>136</td>\n",
       "      <td>Wein.</td>\n",
       "      <td>2013</td>\n",
       "      <td>Mar-27</td>\n",
       "      <td>Nov-29</td>\n",
       "      <td>Oct-Nov</td>\n",
       "    </tr>\n",
       "  </tbody>\n",
       "</table>\n",
       "<p>812 rows × 13 columns</p>\n",
       "</div>"
      ],
      "text/plain": [
       "              gross  rating       opening  \\\n",
       "3      $42,024,533      6.4  $15,873,397    \n",
       "4       $5,704,709      6.5     $167,953    \n",
       "11        $447,954      5.3     $181,494    \n",
       "13     $60,128,566      5.9  $26,650,264    \n",
       "21         $11,774      5.7       $8,691    \n",
       "...             ...     ...           ...   \n",
       "3073  $209,837,675      7.3  $86,198,765    \n",
       "3074  $150,201,498      5.8  $54,713,046    \n",
       "3075   $27,693,292      6.0  $14,118,444    \n",
       "3076  $125,322,469      6.6  $42,558,390    \n",
       "3081    $8,323,085      7.1      $84,283    \n",
       "\n",
       "                                                   mpaa opening theaters  \\\n",
       "3             Rated PG for some mild  thematic elements            3,656   \n",
       "4         Rated R for sexual content and brief language                4   \n",
       "11    Rated R for sexual content, pervasive language...               47   \n",
       "13    Rated R for sequences of strong violence and l...            3,203   \n",
       "21    Rated R for violence throughout, and some sexu...               10   \n",
       "...                                                 ...              ...   \n",
       "3073  Rated PG-13 for intense sequences of violence ...            3,644   \n",
       "3074  Rated PG-13 for strong sequences of action vio...            4,007   \n",
       "3075  Rated R for sequences of grisly bloody violenc...            3,036   \n",
       "3076  Rated PG-13 for intense sequences of sci-fi vi...            3,530   \n",
       "3081  Rated PG-13 for some intense sequences of viol...                4   \n",
       "\n",
       "                              title       budget  rank studio  year   close  \\\n",
       "3                    Dolphin Tale 2   36000000.0    79     WB  2014  Dec-18   \n",
       "4                A Dangerous Method   20000000.0   152    SPC  2011   5-Mar   \n",
       "11                     Bachelorette    3000000.0   254   RTWC  2012  10-Nov   \n",
       "13         Resident Evil: Afterlife   57500000.0    55   SGem  2010  11-Apr   \n",
       "21                    Falcon Rising    4500000.0   563   Free  2014   9-Nov   \n",
       "...                             ...          ...   ...    ...   ...     ...   \n",
       "3073                      Fast Five  125000000.0     6   Uni.  2011   8-Nov   \n",
       "3074    G.I. Joe: The Rise of Cobra  175000000.0    18   Par.  2009  11-May   \n",
       "3075                         Saw VI   11000000.0    98    LGF  2009  Nov-24   \n",
       "3076           Terminator Salvation  200000000.0    23     WB  2009   9-Oct   \n",
       "3081  Mandela: Long Walk to Freedom   35000000.0   136  Wein.  2013  Mar-27   \n",
       "\n",
       "        open    season  \n",
       "3      9-Dec  June-Sep  \n",
       "4     Nov-23   Oct-Nov  \n",
       "11     9-Jul  June-Sep  \n",
       "13     9-Oct  June-Sep  \n",
       "21     9-May  June-Sep  \n",
       "...      ...       ...  \n",
       "3073  Apr-29   Jan-May  \n",
       "3074   8-Jul  June-Sep  \n",
       "3075  Oct-23   Oct-Nov  \n",
       "3076  May-21   Jan-May  \n",
       "3081  Nov-29   Oct-Nov  \n",
       "\n",
       "[812 rows x 13 columns]"
      ]
     },
     "execution_count": 3,
     "metadata": {},
     "output_type": "execute_result"
    }
   ],
   "source": [
    "film = film.dropna(subset = [\"budget\", \"mpaa\", \"opening\", \"season\"])\n",
    "film"
   ]
  },
  {
   "cell_type": "markdown",
   "metadata": {},
   "source": [
    "> Let's make sure that the number values are not in text format.\n",
    "\n",
    "> I already gave you one way to do this in the previous lesson (yes, the gift).\n",
    "\n",
    "> To expand your vocabulary in Python, here's another way to do the same task."
   ]
  },
  {
   "cell_type": "code",
   "execution_count": 6,
   "metadata": {},
   "outputs": [
    {
     "name": "stderr",
     "output_type": "stream",
     "text": [
      "/Library/Frameworks/Python.framework/Versions/3.8/lib/python3.8/site-packages/pandas/core/series.py:4563: SettingWithCopyWarning: \n",
      "A value is trying to be set on a copy of a slice from a DataFrame\n",
      "\n",
      "See the caveats in the documentation: https://pandas.pydata.org/pandas-docs/stable/user_guide/indexing.html#returning-a-view-versus-a-copy\n",
      "  return super().replace(\n"
     ]
    }
   ],
   "source": [
    "film[\"gross\"].replace(regex = True, inplace = True, to_replace= r\"\\D\", value = r\"\")\n",
    "\n",
    "# Warning messages that you have received in our earlier lesson."
   ]
  },
  {
   "cell_type": "code",
   "execution_count": 7,
   "metadata": {},
   "outputs": [],
   "source": [
    "import warnings\n",
    "warnings.filterwarnings(\"ignore\")"
   ]
  },
  {
   "cell_type": "code",
   "execution_count": 8,
   "metadata": {},
   "outputs": [],
   "source": [
    "film[\"opening\"].replace(regex = True, inplace = True, to_replace = r\"\\D\", value = r\"\")"
   ]
  },
  {
   "cell_type": "code",
   "execution_count": 9,
   "metadata": {},
   "outputs": [
    {
     "data": {
      "text/html": [
       "<div>\n",
       "<style scoped>\n",
       "    .dataframe tbody tr th:only-of-type {\n",
       "        vertical-align: middle;\n",
       "    }\n",
       "\n",
       "    .dataframe tbody tr th {\n",
       "        vertical-align: top;\n",
       "    }\n",
       "\n",
       "    .dataframe thead th {\n",
       "        text-align: right;\n",
       "    }\n",
       "</style>\n",
       "<table border=\"1\" class=\"dataframe\">\n",
       "  <thead>\n",
       "    <tr style=\"text-align: right;\">\n",
       "      <th></th>\n",
       "      <th>gross</th>\n",
       "      <th>rating</th>\n",
       "      <th>opening</th>\n",
       "      <th>mpaa</th>\n",
       "      <th>opening theaters</th>\n",
       "      <th>title</th>\n",
       "      <th>budget</th>\n",
       "      <th>rank</th>\n",
       "      <th>studio</th>\n",
       "      <th>year</th>\n",
       "      <th>close</th>\n",
       "      <th>open</th>\n",
       "      <th>season</th>\n",
       "    </tr>\n",
       "  </thead>\n",
       "  <tbody>\n",
       "    <tr>\n",
       "      <th>3</th>\n",
       "      <td>42024533</td>\n",
       "      <td>6.4</td>\n",
       "      <td>15873397</td>\n",
       "      <td>Rated PG for some mild  thematic elements</td>\n",
       "      <td>3656</td>\n",
       "      <td>Dolphin Tale 2</td>\n",
       "      <td>36000000.0</td>\n",
       "      <td>79</td>\n",
       "      <td>WB</td>\n",
       "      <td>2014</td>\n",
       "      <td>Dec-18</td>\n",
       "      <td>9-Dec</td>\n",
       "      <td>June-Sep</td>\n",
       "    </tr>\n",
       "    <tr>\n",
       "      <th>4</th>\n",
       "      <td>5704709</td>\n",
       "      <td>6.5</td>\n",
       "      <td>167953</td>\n",
       "      <td>Rated R for sexual content and brief language</td>\n",
       "      <td>4</td>\n",
       "      <td>A Dangerous Method</td>\n",
       "      <td>20000000.0</td>\n",
       "      <td>152</td>\n",
       "      <td>SPC</td>\n",
       "      <td>2011</td>\n",
       "      <td>5-Mar</td>\n",
       "      <td>Nov-23</td>\n",
       "      <td>Oct-Nov</td>\n",
       "    </tr>\n",
       "    <tr>\n",
       "      <th>11</th>\n",
       "      <td>447954</td>\n",
       "      <td>5.3</td>\n",
       "      <td>181494</td>\n",
       "      <td>Rated R for sexual content, pervasive language...</td>\n",
       "      <td>47</td>\n",
       "      <td>Bachelorette</td>\n",
       "      <td>3000000.0</td>\n",
       "      <td>254</td>\n",
       "      <td>RTWC</td>\n",
       "      <td>2012</td>\n",
       "      <td>10-Nov</td>\n",
       "      <td>9-Jul</td>\n",
       "      <td>June-Sep</td>\n",
       "    </tr>\n",
       "    <tr>\n",
       "      <th>13</th>\n",
       "      <td>60128566</td>\n",
       "      <td>5.9</td>\n",
       "      <td>26650264</td>\n",
       "      <td>Rated R for sequences of strong violence and l...</td>\n",
       "      <td>3203</td>\n",
       "      <td>Resident Evil: Afterlife</td>\n",
       "      <td>57500000.0</td>\n",
       "      <td>55</td>\n",
       "      <td>SGem</td>\n",
       "      <td>2010</td>\n",
       "      <td>11-Apr</td>\n",
       "      <td>9-Oct</td>\n",
       "      <td>June-Sep</td>\n",
       "    </tr>\n",
       "    <tr>\n",
       "      <th>21</th>\n",
       "      <td>11774</td>\n",
       "      <td>5.7</td>\n",
       "      <td>8691</td>\n",
       "      <td>Rated R for violence throughout, and some sexu...</td>\n",
       "      <td>10</td>\n",
       "      <td>Falcon Rising</td>\n",
       "      <td>4500000.0</td>\n",
       "      <td>563</td>\n",
       "      <td>Free</td>\n",
       "      <td>2014</td>\n",
       "      <td>9-Nov</td>\n",
       "      <td>9-May</td>\n",
       "      <td>June-Sep</td>\n",
       "    </tr>\n",
       "    <tr>\n",
       "      <th>...</th>\n",
       "      <td>...</td>\n",
       "      <td>...</td>\n",
       "      <td>...</td>\n",
       "      <td>...</td>\n",
       "      <td>...</td>\n",
       "      <td>...</td>\n",
       "      <td>...</td>\n",
       "      <td>...</td>\n",
       "      <td>...</td>\n",
       "      <td>...</td>\n",
       "      <td>...</td>\n",
       "      <td>...</td>\n",
       "      <td>...</td>\n",
       "    </tr>\n",
       "    <tr>\n",
       "      <th>3073</th>\n",
       "      <td>209837675</td>\n",
       "      <td>7.3</td>\n",
       "      <td>86198765</td>\n",
       "      <td>Rated PG-13 for intense sequences of violence ...</td>\n",
       "      <td>3644</td>\n",
       "      <td>Fast Five</td>\n",
       "      <td>125000000.0</td>\n",
       "      <td>6</td>\n",
       "      <td>Uni.</td>\n",
       "      <td>2011</td>\n",
       "      <td>8-Nov</td>\n",
       "      <td>Apr-29</td>\n",
       "      <td>Jan-May</td>\n",
       "    </tr>\n",
       "    <tr>\n",
       "      <th>3074</th>\n",
       "      <td>150201498</td>\n",
       "      <td>5.8</td>\n",
       "      <td>54713046</td>\n",
       "      <td>Rated PG-13 for strong sequences of action vio...</td>\n",
       "      <td>4007</td>\n",
       "      <td>G.I. Joe: The Rise of Cobra</td>\n",
       "      <td>175000000.0</td>\n",
       "      <td>18</td>\n",
       "      <td>Par.</td>\n",
       "      <td>2009</td>\n",
       "      <td>11-May</td>\n",
       "      <td>8-Jul</td>\n",
       "      <td>June-Sep</td>\n",
       "    </tr>\n",
       "    <tr>\n",
       "      <th>3075</th>\n",
       "      <td>27693292</td>\n",
       "      <td>6.0</td>\n",
       "      <td>14118444</td>\n",
       "      <td>Rated R for sequences of grisly bloody violenc...</td>\n",
       "      <td>3036</td>\n",
       "      <td>Saw VI</td>\n",
       "      <td>11000000.0</td>\n",
       "      <td>98</td>\n",
       "      <td>LGF</td>\n",
       "      <td>2009</td>\n",
       "      <td>Nov-24</td>\n",
       "      <td>Oct-23</td>\n",
       "      <td>Oct-Nov</td>\n",
       "    </tr>\n",
       "    <tr>\n",
       "      <th>3076</th>\n",
       "      <td>125322469</td>\n",
       "      <td>6.6</td>\n",
       "      <td>42558390</td>\n",
       "      <td>Rated PG-13 for intense sequences of sci-fi vi...</td>\n",
       "      <td>3530</td>\n",
       "      <td>Terminator Salvation</td>\n",
       "      <td>200000000.0</td>\n",
       "      <td>23</td>\n",
       "      <td>WB</td>\n",
       "      <td>2009</td>\n",
       "      <td>9-Oct</td>\n",
       "      <td>May-21</td>\n",
       "      <td>Jan-May</td>\n",
       "    </tr>\n",
       "    <tr>\n",
       "      <th>3081</th>\n",
       "      <td>8323085</td>\n",
       "      <td>7.1</td>\n",
       "      <td>84283</td>\n",
       "      <td>Rated PG-13 for some intense sequences of viol...</td>\n",
       "      <td>4</td>\n",
       "      <td>Mandela: Long Walk to Freedom</td>\n",
       "      <td>35000000.0</td>\n",
       "      <td>136</td>\n",
       "      <td>Wein.</td>\n",
       "      <td>2013</td>\n",
       "      <td>Mar-27</td>\n",
       "      <td>Nov-29</td>\n",
       "      <td>Oct-Nov</td>\n",
       "    </tr>\n",
       "  </tbody>\n",
       "</table>\n",
       "<p>812 rows × 13 columns</p>\n",
       "</div>"
      ],
      "text/plain": [
       "          gross  rating   opening  \\\n",
       "3      42024533     6.4  15873397   \n",
       "4       5704709     6.5    167953   \n",
       "11       447954     5.3    181494   \n",
       "13     60128566     5.9  26650264   \n",
       "21        11774     5.7      8691   \n",
       "...         ...     ...       ...   \n",
       "3073  209837675     7.3  86198765   \n",
       "3074  150201498     5.8  54713046   \n",
       "3075   27693292     6.0  14118444   \n",
       "3076  125322469     6.6  42558390   \n",
       "3081    8323085     7.1     84283   \n",
       "\n",
       "                                                   mpaa opening theaters  \\\n",
       "3             Rated PG for some mild  thematic elements             3656   \n",
       "4         Rated R for sexual content and brief language                4   \n",
       "11    Rated R for sexual content, pervasive language...               47   \n",
       "13    Rated R for sequences of strong violence and l...             3203   \n",
       "21    Rated R for violence throughout, and some sexu...               10   \n",
       "...                                                 ...              ...   \n",
       "3073  Rated PG-13 for intense sequences of violence ...             3644   \n",
       "3074  Rated PG-13 for strong sequences of action vio...             4007   \n",
       "3075  Rated R for sequences of grisly bloody violenc...             3036   \n",
       "3076  Rated PG-13 for intense sequences of sci-fi vi...             3530   \n",
       "3081  Rated PG-13 for some intense sequences of viol...                4   \n",
       "\n",
       "                              title       budget  rank studio  year   close  \\\n",
       "3                    Dolphin Tale 2   36000000.0    79     WB  2014  Dec-18   \n",
       "4                A Dangerous Method   20000000.0   152    SPC  2011   5-Mar   \n",
       "11                     Bachelorette    3000000.0   254   RTWC  2012  10-Nov   \n",
       "13         Resident Evil: Afterlife   57500000.0    55   SGem  2010  11-Apr   \n",
       "21                    Falcon Rising    4500000.0   563   Free  2014   9-Nov   \n",
       "...                             ...          ...   ...    ...   ...     ...   \n",
       "3073                      Fast Five  125000000.0     6   Uni.  2011   8-Nov   \n",
       "3074    G.I. Joe: The Rise of Cobra  175000000.0    18   Par.  2009  11-May   \n",
       "3075                         Saw VI   11000000.0    98    LGF  2009  Nov-24   \n",
       "3076           Terminator Salvation  200000000.0    23     WB  2009   9-Oct   \n",
       "3081  Mandela: Long Walk to Freedom   35000000.0   136  Wein.  2013  Mar-27   \n",
       "\n",
       "        open    season  \n",
       "3      9-Dec  June-Sep  \n",
       "4     Nov-23   Oct-Nov  \n",
       "11     9-Jul  June-Sep  \n",
       "13     9-Oct  June-Sep  \n",
       "21     9-May  June-Sep  \n",
       "...      ...       ...  \n",
       "3073  Apr-29   Jan-May  \n",
       "3074   8-Jul  June-Sep  \n",
       "3075  Oct-23   Oct-Nov  \n",
       "3076  May-21   Jan-May  \n",
       "3081  Nov-29   Oct-Nov  \n",
       "\n",
       "[812 rows x 13 columns]"
      ]
     },
     "execution_count": 9,
     "metadata": {},
     "output_type": "execute_result"
    }
   ],
   "source": [
    "film[\"opening theaters\"].replace(regex = True, inplace = True, to_replace = r\"\\D\", value = r\"\")\n",
    "film"
   ]
  },
  {
   "cell_type": "markdown",
   "metadata": {},
   "source": [
    "> Let's replace `empty values`"
   ]
  },
  {
   "cell_type": "code",
   "execution_count": 11,
   "metadata": {},
   "outputs": [],
   "source": [
    "film.loc[film[\"opening\"]==\"\", \"opening\"] = 0\n",
    "film.loc[film[\"opening theaters\"]==\"\", \"opening theaters\"] = 0"
   ]
  },
  {
   "cell_type": "markdown",
   "metadata": {},
   "source": [
    "> Let's convert to float values for numerical variables"
   ]
  },
  {
   "cell_type": "code",
   "execution_count": 12,
   "metadata": {},
   "outputs": [],
   "source": [
    "film[\"gross\"] = film[\"gross\"].astype(float)"
   ]
  },
  {
   "cell_type": "code",
   "execution_count": 13,
   "metadata": {},
   "outputs": [],
   "source": [
    "film[\"opening\"] = film[\"opening\"].astype(float)\n",
    "film[\"opening theaters\"] = film[\"opening theaters\"].astype(float)\n",
    "film[\"budget\"] = film[\"budget\"].astype(float)\n",
    "film[\"rating\"] = film[\"rating\"].astype(float)"
   ]
  },
  {
   "cell_type": "markdown",
   "metadata": {},
   "source": [
    "> Let's recode season (it depends how you wish to define). For example..."
   ]
  },
  {
   "cell_type": "code",
   "execution_count": 14,
   "metadata": {},
   "outputs": [],
   "source": [
    "film.loc[film[\"season\"] == 0, \"season\"] = \"Jan-May\"\n",
    "film.loc[film[\"season\"] == 1, \"season\"] = \"June-Sep\"\n",
    "film.loc[film[\"season\"] == 2, \"season\"] = \"Oct-Nov\"\n",
    "film.loc[film[\"season\"] == 3, \"season\"] = \"Dec\""
   ]
  },
  {
   "cell_type": "markdown",
   "metadata": {},
   "source": [
    "> Let's create dummy variables for the various seasons"
   ]
  },
  {
   "cell_type": "code",
   "execution_count": 15,
   "metadata": {},
   "outputs": [],
   "source": [
    "season_list = film.season.unique()\n",
    "\n",
    "for season in season_list:\n",
    "    film[season] = film[\"season\"] == season"
   ]
  },
  {
   "cell_type": "markdown",
   "metadata": {},
   "source": [
    "> Let's just simply create a MPAA rating variable. Let's take a simpler solution in the interest of time."
   ]
  },
  {
   "cell_type": "code",
   "execution_count": 17,
   "metadata": {},
   "outputs": [],
   "source": [
    "for i in film.index:\n",
    "    try:\n",
    "        film.loc[i, \"mpaa_new\"] = film.loc[i, \"mpaa\"].split(\"Rated \", 1)[1].split(\" \")[0]\n",
    "    except:\n",
    "        film.loc[i, \"mpaa_new\"] = \"PG-13\"\n",
    "film.loc[film[\"mpaa_new\"] == \"PG-\", \"mpaa_new\"] = \"PG\"\n",
    "film.loc[film[\"mpaa_new\"] == \"NC-17\", \"mpaa_new\"] = \"R\""
   ]
  },
  {
   "cell_type": "markdown",
   "metadata": {},
   "source": [
    "> Let's create dummy variables for the various MPAA Ratings"
   ]
  },
  {
   "cell_type": "code",
   "execution_count": 18,
   "metadata": {},
   "outputs": [],
   "source": [
    "mpaa_list = film.mpaa_new.unique()\n",
    "\n",
    "for mpaa in mpaa_list:\n",
    "    film[mpaa] = film[\"mpaa_new\"] == mpaa"
   ]
  },
  {
   "cell_type": "markdown",
   "metadata": {},
   "source": [
    "> Let's create a list of prolific studios"
   ]
  },
  {
   "cell_type": "code",
   "execution_count": 20,
   "metadata": {},
   "outputs": [
    {
     "data": {
      "text/plain": [
       "<pandas.core.groupby.generic.DataFrameGroupBy object at 0x7fbdd87184c0>"
      ]
     },
     "execution_count": 20,
     "metadata": {},
     "output_type": "execute_result"
    }
   ],
   "source": [
    "studio_df = film.groupby(\"studio\")\n",
    "studio_df"
   ]
  },
  {
   "cell_type": "code",
   "execution_count": 21,
   "metadata": {},
   "outputs": [
    {
     "data": {
      "text/plain": [
       "studio\n",
       "WB      88\n",
       "Uni.    79\n",
       "Fox     71\n",
       "Sony    59\n",
       "Par.    44\n",
       "        ..\n",
       "TFA      1\n",
       "TRR      1\n",
       "VE       1\n",
       "Viv.     1\n",
       "21CF     1\n",
       "Name: title, Length: 67, dtype: int64"
      ]
     },
     "execution_count": 21,
     "metadata": {},
     "output_type": "execute_result"
    }
   ],
   "source": [
    "studios_list = studio_df[\"title\"].count()\n",
    "studios_list.sort_values(ascending = False)"
   ]
  },
  {
   "cell_type": "markdown",
   "metadata": {},
   "source": [
    "> Let's identify the top-5 studios"
   ]
  },
  {
   "cell_type": "code",
   "execution_count": 24,
   "metadata": {},
   "outputs": [],
   "source": [
    "film[\"Top_Tier\"] = False\n",
    "\n",
    "for i in studios_list.index[:5]:\n",
    "    film.loc[film[\"studio\"] == i, \"Top_Tier\"] = True"
   ]
  },
  {
   "cell_type": "markdown",
   "metadata": {},
   "source": [
    "> How would you identify the next 5 top studios"
   ]
  },
  {
   "cell_type": "code",
   "execution_count": 25,
   "metadata": {},
   "outputs": [],
   "source": [
    "film[\"Tier_2\"] = False\n",
    "\n",
    "for i in studios_list.index[6:11]:\n",
    "    film.loc[film[\"studio\"] == i, \"Tier_2\"] = True"
   ]
  },
  {
   "cell_type": "code",
   "execution_count": 26,
   "metadata": {},
   "outputs": [
    {
     "data": {
      "text/html": [
       "<div>\n",
       "<style scoped>\n",
       "    .dataframe tbody tr th:only-of-type {\n",
       "        vertical-align: middle;\n",
       "    }\n",
       "\n",
       "    .dataframe tbody tr th {\n",
       "        vertical-align: top;\n",
       "    }\n",
       "\n",
       "    .dataframe thead th {\n",
       "        text-align: right;\n",
       "    }\n",
       "</style>\n",
       "<table border=\"1\" class=\"dataframe\">\n",
       "  <thead>\n",
       "    <tr style=\"text-align: right;\">\n",
       "      <th></th>\n",
       "      <th>gross</th>\n",
       "      <th>rating</th>\n",
       "      <th>opening</th>\n",
       "      <th>mpaa</th>\n",
       "      <th>opening theaters</th>\n",
       "      <th>title</th>\n",
       "      <th>budget</th>\n",
       "      <th>rank</th>\n",
       "      <th>studio</th>\n",
       "      <th>year</th>\n",
       "      <th>...</th>\n",
       "      <th>June-Sep</th>\n",
       "      <th>Oct-Nov</th>\n",
       "      <th>Jan-May</th>\n",
       "      <th>Dec</th>\n",
       "      <th>mpaa_new</th>\n",
       "      <th>PG</th>\n",
       "      <th>R</th>\n",
       "      <th>PG-13</th>\n",
       "      <th>Top_Tier</th>\n",
       "      <th>Tier_2</th>\n",
       "    </tr>\n",
       "  </thead>\n",
       "  <tbody>\n",
       "    <tr>\n",
       "      <th>3</th>\n",
       "      <td>42024533.0</td>\n",
       "      <td>6.4</td>\n",
       "      <td>15873397.0</td>\n",
       "      <td>Rated PG for some mild  thematic elements</td>\n",
       "      <td>3656.0</td>\n",
       "      <td>Dolphin Tale 2</td>\n",
       "      <td>36000000.0</td>\n",
       "      <td>79</td>\n",
       "      <td>WB</td>\n",
       "      <td>2014</td>\n",
       "      <td>...</td>\n",
       "      <td>True</td>\n",
       "      <td>False</td>\n",
       "      <td>False</td>\n",
       "      <td>False</td>\n",
       "      <td>PG</td>\n",
       "      <td>True</td>\n",
       "      <td>False</td>\n",
       "      <td>False</td>\n",
       "      <td>False</td>\n",
       "      <td>False</td>\n",
       "    </tr>\n",
       "    <tr>\n",
       "      <th>4</th>\n",
       "      <td>5704709.0</td>\n",
       "      <td>6.5</td>\n",
       "      <td>167953.0</td>\n",
       "      <td>Rated R for sexual content and brief language</td>\n",
       "      <td>4.0</td>\n",
       "      <td>A Dangerous Method</td>\n",
       "      <td>20000000.0</td>\n",
       "      <td>152</td>\n",
       "      <td>SPC</td>\n",
       "      <td>2011</td>\n",
       "      <td>...</td>\n",
       "      <td>False</td>\n",
       "      <td>True</td>\n",
       "      <td>False</td>\n",
       "      <td>False</td>\n",
       "      <td>R</td>\n",
       "      <td>False</td>\n",
       "      <td>True</td>\n",
       "      <td>False</td>\n",
       "      <td>False</td>\n",
       "      <td>False</td>\n",
       "    </tr>\n",
       "    <tr>\n",
       "      <th>11</th>\n",
       "      <td>447954.0</td>\n",
       "      <td>5.3</td>\n",
       "      <td>181494.0</td>\n",
       "      <td>Rated R for sexual content, pervasive language...</td>\n",
       "      <td>47.0</td>\n",
       "      <td>Bachelorette</td>\n",
       "      <td>3000000.0</td>\n",
       "      <td>254</td>\n",
       "      <td>RTWC</td>\n",
       "      <td>2012</td>\n",
       "      <td>...</td>\n",
       "      <td>True</td>\n",
       "      <td>False</td>\n",
       "      <td>False</td>\n",
       "      <td>False</td>\n",
       "      <td>R</td>\n",
       "      <td>False</td>\n",
       "      <td>True</td>\n",
       "      <td>False</td>\n",
       "      <td>False</td>\n",
       "      <td>False</td>\n",
       "    </tr>\n",
       "    <tr>\n",
       "      <th>13</th>\n",
       "      <td>60128566.0</td>\n",
       "      <td>5.9</td>\n",
       "      <td>26650264.0</td>\n",
       "      <td>Rated R for sequences of strong violence and l...</td>\n",
       "      <td>3203.0</td>\n",
       "      <td>Resident Evil: Afterlife</td>\n",
       "      <td>57500000.0</td>\n",
       "      <td>55</td>\n",
       "      <td>SGem</td>\n",
       "      <td>2010</td>\n",
       "      <td>...</td>\n",
       "      <td>True</td>\n",
       "      <td>False</td>\n",
       "      <td>False</td>\n",
       "      <td>False</td>\n",
       "      <td>R</td>\n",
       "      <td>False</td>\n",
       "      <td>True</td>\n",
       "      <td>False</td>\n",
       "      <td>False</td>\n",
       "      <td>False</td>\n",
       "    </tr>\n",
       "    <tr>\n",
       "      <th>21</th>\n",
       "      <td>11774.0</td>\n",
       "      <td>5.7</td>\n",
       "      <td>8691.0</td>\n",
       "      <td>Rated R for violence throughout, and some sexu...</td>\n",
       "      <td>10.0</td>\n",
       "      <td>Falcon Rising</td>\n",
       "      <td>4500000.0</td>\n",
       "      <td>563</td>\n",
       "      <td>Free</td>\n",
       "      <td>2014</td>\n",
       "      <td>...</td>\n",
       "      <td>True</td>\n",
       "      <td>False</td>\n",
       "      <td>False</td>\n",
       "      <td>False</td>\n",
       "      <td>R</td>\n",
       "      <td>False</td>\n",
       "      <td>True</td>\n",
       "      <td>False</td>\n",
       "      <td>False</td>\n",
       "      <td>False</td>\n",
       "    </tr>\n",
       "    <tr>\n",
       "      <th>...</th>\n",
       "      <td>...</td>\n",
       "      <td>...</td>\n",
       "      <td>...</td>\n",
       "      <td>...</td>\n",
       "      <td>...</td>\n",
       "      <td>...</td>\n",
       "      <td>...</td>\n",
       "      <td>...</td>\n",
       "      <td>...</td>\n",
       "      <td>...</td>\n",
       "      <td>...</td>\n",
       "      <td>...</td>\n",
       "      <td>...</td>\n",
       "      <td>...</td>\n",
       "      <td>...</td>\n",
       "      <td>...</td>\n",
       "      <td>...</td>\n",
       "      <td>...</td>\n",
       "      <td>...</td>\n",
       "      <td>...</td>\n",
       "      <td>...</td>\n",
       "    </tr>\n",
       "    <tr>\n",
       "      <th>3073</th>\n",
       "      <td>209837675.0</td>\n",
       "      <td>7.3</td>\n",
       "      <td>86198765.0</td>\n",
       "      <td>Rated PG-13 for intense sequences of violence ...</td>\n",
       "      <td>3644.0</td>\n",
       "      <td>Fast Five</td>\n",
       "      <td>125000000.0</td>\n",
       "      <td>6</td>\n",
       "      <td>Uni.</td>\n",
       "      <td>2011</td>\n",
       "      <td>...</td>\n",
       "      <td>False</td>\n",
       "      <td>False</td>\n",
       "      <td>True</td>\n",
       "      <td>False</td>\n",
       "      <td>PG-13</td>\n",
       "      <td>False</td>\n",
       "      <td>False</td>\n",
       "      <td>True</td>\n",
       "      <td>False</td>\n",
       "      <td>False</td>\n",
       "    </tr>\n",
       "    <tr>\n",
       "      <th>3074</th>\n",
       "      <td>150201498.0</td>\n",
       "      <td>5.8</td>\n",
       "      <td>54713046.0</td>\n",
       "      <td>Rated PG-13 for strong sequences of action vio...</td>\n",
       "      <td>4007.0</td>\n",
       "      <td>G.I. Joe: The Rise of Cobra</td>\n",
       "      <td>175000000.0</td>\n",
       "      <td>18</td>\n",
       "      <td>Par.</td>\n",
       "      <td>2009</td>\n",
       "      <td>...</td>\n",
       "      <td>True</td>\n",
       "      <td>False</td>\n",
       "      <td>False</td>\n",
       "      <td>False</td>\n",
       "      <td>PG-13</td>\n",
       "      <td>False</td>\n",
       "      <td>False</td>\n",
       "      <td>True</td>\n",
       "      <td>False</td>\n",
       "      <td>False</td>\n",
       "    </tr>\n",
       "    <tr>\n",
       "      <th>3075</th>\n",
       "      <td>27693292.0</td>\n",
       "      <td>6.0</td>\n",
       "      <td>14118444.0</td>\n",
       "      <td>Rated R for sequences of grisly bloody violenc...</td>\n",
       "      <td>3036.0</td>\n",
       "      <td>Saw VI</td>\n",
       "      <td>11000000.0</td>\n",
       "      <td>98</td>\n",
       "      <td>LGF</td>\n",
       "      <td>2009</td>\n",
       "      <td>...</td>\n",
       "      <td>False</td>\n",
       "      <td>True</td>\n",
       "      <td>False</td>\n",
       "      <td>False</td>\n",
       "      <td>R</td>\n",
       "      <td>False</td>\n",
       "      <td>True</td>\n",
       "      <td>False</td>\n",
       "      <td>False</td>\n",
       "      <td>False</td>\n",
       "    </tr>\n",
       "    <tr>\n",
       "      <th>3076</th>\n",
       "      <td>125322469.0</td>\n",
       "      <td>6.6</td>\n",
       "      <td>42558390.0</td>\n",
       "      <td>Rated PG-13 for intense sequences of sci-fi vi...</td>\n",
       "      <td>3530.0</td>\n",
       "      <td>Terminator Salvation</td>\n",
       "      <td>200000000.0</td>\n",
       "      <td>23</td>\n",
       "      <td>WB</td>\n",
       "      <td>2009</td>\n",
       "      <td>...</td>\n",
       "      <td>False</td>\n",
       "      <td>False</td>\n",
       "      <td>True</td>\n",
       "      <td>False</td>\n",
       "      <td>PG-13</td>\n",
       "      <td>False</td>\n",
       "      <td>False</td>\n",
       "      <td>True</td>\n",
       "      <td>False</td>\n",
       "      <td>False</td>\n",
       "    </tr>\n",
       "    <tr>\n",
       "      <th>3081</th>\n",
       "      <td>8323085.0</td>\n",
       "      <td>7.1</td>\n",
       "      <td>84283.0</td>\n",
       "      <td>Rated PG-13 for some intense sequences of viol...</td>\n",
       "      <td>4.0</td>\n",
       "      <td>Mandela: Long Walk to Freedom</td>\n",
       "      <td>35000000.0</td>\n",
       "      <td>136</td>\n",
       "      <td>Wein.</td>\n",
       "      <td>2013</td>\n",
       "      <td>...</td>\n",
       "      <td>False</td>\n",
       "      <td>True</td>\n",
       "      <td>False</td>\n",
       "      <td>False</td>\n",
       "      <td>PG-13</td>\n",
       "      <td>False</td>\n",
       "      <td>False</td>\n",
       "      <td>True</td>\n",
       "      <td>False</td>\n",
       "      <td>False</td>\n",
       "    </tr>\n",
       "  </tbody>\n",
       "</table>\n",
       "<p>812 rows × 23 columns</p>\n",
       "</div>"
      ],
      "text/plain": [
       "            gross  rating     opening  \\\n",
       "3      42024533.0     6.4  15873397.0   \n",
       "4       5704709.0     6.5    167953.0   \n",
       "11       447954.0     5.3    181494.0   \n",
       "13     60128566.0     5.9  26650264.0   \n",
       "21        11774.0     5.7      8691.0   \n",
       "...           ...     ...         ...   \n",
       "3073  209837675.0     7.3  86198765.0   \n",
       "3074  150201498.0     5.8  54713046.0   \n",
       "3075   27693292.0     6.0  14118444.0   \n",
       "3076  125322469.0     6.6  42558390.0   \n",
       "3081    8323085.0     7.1     84283.0   \n",
       "\n",
       "                                                   mpaa  opening theaters  \\\n",
       "3             Rated PG for some mild  thematic elements            3656.0   \n",
       "4         Rated R for sexual content and brief language               4.0   \n",
       "11    Rated R for sexual content, pervasive language...              47.0   \n",
       "13    Rated R for sequences of strong violence and l...            3203.0   \n",
       "21    Rated R for violence throughout, and some sexu...              10.0   \n",
       "...                                                 ...               ...   \n",
       "3073  Rated PG-13 for intense sequences of violence ...            3644.0   \n",
       "3074  Rated PG-13 for strong sequences of action vio...            4007.0   \n",
       "3075  Rated R for sequences of grisly bloody violenc...            3036.0   \n",
       "3076  Rated PG-13 for intense sequences of sci-fi vi...            3530.0   \n",
       "3081  Rated PG-13 for some intense sequences of viol...               4.0   \n",
       "\n",
       "                              title       budget  rank studio  year  ...  \\\n",
       "3                    Dolphin Tale 2   36000000.0    79     WB  2014  ...   \n",
       "4                A Dangerous Method   20000000.0   152    SPC  2011  ...   \n",
       "11                     Bachelorette    3000000.0   254   RTWC  2012  ...   \n",
       "13         Resident Evil: Afterlife   57500000.0    55   SGem  2010  ...   \n",
       "21                    Falcon Rising    4500000.0   563   Free  2014  ...   \n",
       "...                             ...          ...   ...    ...   ...  ...   \n",
       "3073                      Fast Five  125000000.0     6   Uni.  2011  ...   \n",
       "3074    G.I. Joe: The Rise of Cobra  175000000.0    18   Par.  2009  ...   \n",
       "3075                         Saw VI   11000000.0    98    LGF  2009  ...   \n",
       "3076           Terminator Salvation  200000000.0    23     WB  2009  ...   \n",
       "3081  Mandela: Long Walk to Freedom   35000000.0   136  Wein.  2013  ...   \n",
       "\n",
       "     June-Sep Oct-Nov Jan-May    Dec  mpaa_new     PG      R  PG-13  Top_Tier  \\\n",
       "3        True   False   False  False        PG   True  False  False     False   \n",
       "4       False    True   False  False         R  False   True  False     False   \n",
       "11       True   False   False  False         R  False   True  False     False   \n",
       "13       True   False   False  False         R  False   True  False     False   \n",
       "21       True   False   False  False         R  False   True  False     False   \n",
       "...       ...     ...     ...    ...       ...    ...    ...    ...       ...   \n",
       "3073    False   False    True  False     PG-13  False  False   True     False   \n",
       "3074     True   False   False  False     PG-13  False  False   True     False   \n",
       "3075    False    True   False  False         R  False   True  False     False   \n",
       "3076    False   False    True  False     PG-13  False  False   True     False   \n",
       "3081    False    True   False  False     PG-13  False  False   True     False   \n",
       "\n",
       "      Tier_2  \n",
       "3      False  \n",
       "4      False  \n",
       "11     False  \n",
       "13     False  \n",
       "21     False  \n",
       "...      ...  \n",
       "3073   False  \n",
       "3074   False  \n",
       "3075   False  \n",
       "3076   False  \n",
       "3081   False  \n",
       "\n",
       "[812 rows x 23 columns]"
      ]
     },
     "execution_count": 26,
     "metadata": {},
     "output_type": "execute_result"
    }
   ],
   "source": [
    "film"
   ]
  },
  {
   "cell_type": "markdown",
   "metadata": {},
   "source": [
    "> Let's rename the columns for use later :)"
   ]
  },
  {
   "cell_type": "code",
   "execution_count": 27,
   "metadata": {},
   "outputs": [
    {
     "data": {
      "text/html": [
       "<div>\n",
       "<style scoped>\n",
       "    .dataframe tbody tr th:only-of-type {\n",
       "        vertical-align: middle;\n",
       "    }\n",
       "\n",
       "    .dataframe tbody tr th {\n",
       "        vertical-align: top;\n",
       "    }\n",
       "\n",
       "    .dataframe thead th {\n",
       "        text-align: right;\n",
       "    }\n",
       "</style>\n",
       "<table border=\"1\" class=\"dataframe\">\n",
       "  <thead>\n",
       "    <tr style=\"text-align: right;\">\n",
       "      <th></th>\n",
       "      <th>revenue</th>\n",
       "      <th>rating</th>\n",
       "      <th>opening_gross</th>\n",
       "      <th>mpaa</th>\n",
       "      <th>opening_theaters</th>\n",
       "      <th>title</th>\n",
       "      <th>budget</th>\n",
       "      <th>rank</th>\n",
       "      <th>studio</th>\n",
       "      <th>year</th>\n",
       "      <th>...</th>\n",
       "      <th>June-Sep</th>\n",
       "      <th>Oct-Nov</th>\n",
       "      <th>Jan-May</th>\n",
       "      <th>Dec</th>\n",
       "      <th>mpaa_new</th>\n",
       "      <th>PG</th>\n",
       "      <th>R</th>\n",
       "      <th>PG-13</th>\n",
       "      <th>Top_Tier</th>\n",
       "      <th>Tier_2</th>\n",
       "    </tr>\n",
       "  </thead>\n",
       "  <tbody>\n",
       "    <tr>\n",
       "      <th>3</th>\n",
       "      <td>42024533.0</td>\n",
       "      <td>6.4</td>\n",
       "      <td>15873397.0</td>\n",
       "      <td>Rated PG for some mild  thematic elements</td>\n",
       "      <td>3656.0</td>\n",
       "      <td>Dolphin Tale 2</td>\n",
       "      <td>36000000.0</td>\n",
       "      <td>79</td>\n",
       "      <td>WB</td>\n",
       "      <td>2014</td>\n",
       "      <td>...</td>\n",
       "      <td>True</td>\n",
       "      <td>False</td>\n",
       "      <td>False</td>\n",
       "      <td>False</td>\n",
       "      <td>PG</td>\n",
       "      <td>True</td>\n",
       "      <td>False</td>\n",
       "      <td>False</td>\n",
       "      <td>False</td>\n",
       "      <td>False</td>\n",
       "    </tr>\n",
       "    <tr>\n",
       "      <th>4</th>\n",
       "      <td>5704709.0</td>\n",
       "      <td>6.5</td>\n",
       "      <td>167953.0</td>\n",
       "      <td>Rated R for sexual content and brief language</td>\n",
       "      <td>4.0</td>\n",
       "      <td>A Dangerous Method</td>\n",
       "      <td>20000000.0</td>\n",
       "      <td>152</td>\n",
       "      <td>SPC</td>\n",
       "      <td>2011</td>\n",
       "      <td>...</td>\n",
       "      <td>False</td>\n",
       "      <td>True</td>\n",
       "      <td>False</td>\n",
       "      <td>False</td>\n",
       "      <td>R</td>\n",
       "      <td>False</td>\n",
       "      <td>True</td>\n",
       "      <td>False</td>\n",
       "      <td>False</td>\n",
       "      <td>False</td>\n",
       "    </tr>\n",
       "    <tr>\n",
       "      <th>11</th>\n",
       "      <td>447954.0</td>\n",
       "      <td>5.3</td>\n",
       "      <td>181494.0</td>\n",
       "      <td>Rated R for sexual content, pervasive language...</td>\n",
       "      <td>47.0</td>\n",
       "      <td>Bachelorette</td>\n",
       "      <td>3000000.0</td>\n",
       "      <td>254</td>\n",
       "      <td>RTWC</td>\n",
       "      <td>2012</td>\n",
       "      <td>...</td>\n",
       "      <td>True</td>\n",
       "      <td>False</td>\n",
       "      <td>False</td>\n",
       "      <td>False</td>\n",
       "      <td>R</td>\n",
       "      <td>False</td>\n",
       "      <td>True</td>\n",
       "      <td>False</td>\n",
       "      <td>False</td>\n",
       "      <td>False</td>\n",
       "    </tr>\n",
       "    <tr>\n",
       "      <th>13</th>\n",
       "      <td>60128566.0</td>\n",
       "      <td>5.9</td>\n",
       "      <td>26650264.0</td>\n",
       "      <td>Rated R for sequences of strong violence and l...</td>\n",
       "      <td>3203.0</td>\n",
       "      <td>Resident Evil: Afterlife</td>\n",
       "      <td>57500000.0</td>\n",
       "      <td>55</td>\n",
       "      <td>SGem</td>\n",
       "      <td>2010</td>\n",
       "      <td>...</td>\n",
       "      <td>True</td>\n",
       "      <td>False</td>\n",
       "      <td>False</td>\n",
       "      <td>False</td>\n",
       "      <td>R</td>\n",
       "      <td>False</td>\n",
       "      <td>True</td>\n",
       "      <td>False</td>\n",
       "      <td>False</td>\n",
       "      <td>False</td>\n",
       "    </tr>\n",
       "    <tr>\n",
       "      <th>21</th>\n",
       "      <td>11774.0</td>\n",
       "      <td>5.7</td>\n",
       "      <td>8691.0</td>\n",
       "      <td>Rated R for violence throughout, and some sexu...</td>\n",
       "      <td>10.0</td>\n",
       "      <td>Falcon Rising</td>\n",
       "      <td>4500000.0</td>\n",
       "      <td>563</td>\n",
       "      <td>Free</td>\n",
       "      <td>2014</td>\n",
       "      <td>...</td>\n",
       "      <td>True</td>\n",
       "      <td>False</td>\n",
       "      <td>False</td>\n",
       "      <td>False</td>\n",
       "      <td>R</td>\n",
       "      <td>False</td>\n",
       "      <td>True</td>\n",
       "      <td>False</td>\n",
       "      <td>False</td>\n",
       "      <td>False</td>\n",
       "    </tr>\n",
       "    <tr>\n",
       "      <th>...</th>\n",
       "      <td>...</td>\n",
       "      <td>...</td>\n",
       "      <td>...</td>\n",
       "      <td>...</td>\n",
       "      <td>...</td>\n",
       "      <td>...</td>\n",
       "      <td>...</td>\n",
       "      <td>...</td>\n",
       "      <td>...</td>\n",
       "      <td>...</td>\n",
       "      <td>...</td>\n",
       "      <td>...</td>\n",
       "      <td>...</td>\n",
       "      <td>...</td>\n",
       "      <td>...</td>\n",
       "      <td>...</td>\n",
       "      <td>...</td>\n",
       "      <td>...</td>\n",
       "      <td>...</td>\n",
       "      <td>...</td>\n",
       "      <td>...</td>\n",
       "    </tr>\n",
       "    <tr>\n",
       "      <th>3073</th>\n",
       "      <td>209837675.0</td>\n",
       "      <td>7.3</td>\n",
       "      <td>86198765.0</td>\n",
       "      <td>Rated PG-13 for intense sequences of violence ...</td>\n",
       "      <td>3644.0</td>\n",
       "      <td>Fast Five</td>\n",
       "      <td>125000000.0</td>\n",
       "      <td>6</td>\n",
       "      <td>Uni.</td>\n",
       "      <td>2011</td>\n",
       "      <td>...</td>\n",
       "      <td>False</td>\n",
       "      <td>False</td>\n",
       "      <td>True</td>\n",
       "      <td>False</td>\n",
       "      <td>PG-13</td>\n",
       "      <td>False</td>\n",
       "      <td>False</td>\n",
       "      <td>True</td>\n",
       "      <td>False</td>\n",
       "      <td>False</td>\n",
       "    </tr>\n",
       "    <tr>\n",
       "      <th>3074</th>\n",
       "      <td>150201498.0</td>\n",
       "      <td>5.8</td>\n",
       "      <td>54713046.0</td>\n",
       "      <td>Rated PG-13 for strong sequences of action vio...</td>\n",
       "      <td>4007.0</td>\n",
       "      <td>G.I. Joe: The Rise of Cobra</td>\n",
       "      <td>175000000.0</td>\n",
       "      <td>18</td>\n",
       "      <td>Par.</td>\n",
       "      <td>2009</td>\n",
       "      <td>...</td>\n",
       "      <td>True</td>\n",
       "      <td>False</td>\n",
       "      <td>False</td>\n",
       "      <td>False</td>\n",
       "      <td>PG-13</td>\n",
       "      <td>False</td>\n",
       "      <td>False</td>\n",
       "      <td>True</td>\n",
       "      <td>False</td>\n",
       "      <td>False</td>\n",
       "    </tr>\n",
       "    <tr>\n",
       "      <th>3075</th>\n",
       "      <td>27693292.0</td>\n",
       "      <td>6.0</td>\n",
       "      <td>14118444.0</td>\n",
       "      <td>Rated R for sequences of grisly bloody violenc...</td>\n",
       "      <td>3036.0</td>\n",
       "      <td>Saw VI</td>\n",
       "      <td>11000000.0</td>\n",
       "      <td>98</td>\n",
       "      <td>LGF</td>\n",
       "      <td>2009</td>\n",
       "      <td>...</td>\n",
       "      <td>False</td>\n",
       "      <td>True</td>\n",
       "      <td>False</td>\n",
       "      <td>False</td>\n",
       "      <td>R</td>\n",
       "      <td>False</td>\n",
       "      <td>True</td>\n",
       "      <td>False</td>\n",
       "      <td>False</td>\n",
       "      <td>False</td>\n",
       "    </tr>\n",
       "    <tr>\n",
       "      <th>3076</th>\n",
       "      <td>125322469.0</td>\n",
       "      <td>6.6</td>\n",
       "      <td>42558390.0</td>\n",
       "      <td>Rated PG-13 for intense sequences of sci-fi vi...</td>\n",
       "      <td>3530.0</td>\n",
       "      <td>Terminator Salvation</td>\n",
       "      <td>200000000.0</td>\n",
       "      <td>23</td>\n",
       "      <td>WB</td>\n",
       "      <td>2009</td>\n",
       "      <td>...</td>\n",
       "      <td>False</td>\n",
       "      <td>False</td>\n",
       "      <td>True</td>\n",
       "      <td>False</td>\n",
       "      <td>PG-13</td>\n",
       "      <td>False</td>\n",
       "      <td>False</td>\n",
       "      <td>True</td>\n",
       "      <td>False</td>\n",
       "      <td>False</td>\n",
       "    </tr>\n",
       "    <tr>\n",
       "      <th>3081</th>\n",
       "      <td>8323085.0</td>\n",
       "      <td>7.1</td>\n",
       "      <td>84283.0</td>\n",
       "      <td>Rated PG-13 for some intense sequences of viol...</td>\n",
       "      <td>4.0</td>\n",
       "      <td>Mandela: Long Walk to Freedom</td>\n",
       "      <td>35000000.0</td>\n",
       "      <td>136</td>\n",
       "      <td>Wein.</td>\n",
       "      <td>2013</td>\n",
       "      <td>...</td>\n",
       "      <td>False</td>\n",
       "      <td>True</td>\n",
       "      <td>False</td>\n",
       "      <td>False</td>\n",
       "      <td>PG-13</td>\n",
       "      <td>False</td>\n",
       "      <td>False</td>\n",
       "      <td>True</td>\n",
       "      <td>False</td>\n",
       "      <td>False</td>\n",
       "    </tr>\n",
       "  </tbody>\n",
       "</table>\n",
       "<p>812 rows × 23 columns</p>\n",
       "</div>"
      ],
      "text/plain": [
       "          revenue  rating  opening_gross  \\\n",
       "3      42024533.0     6.4     15873397.0   \n",
       "4       5704709.0     6.5       167953.0   \n",
       "11       447954.0     5.3       181494.0   \n",
       "13     60128566.0     5.9     26650264.0   \n",
       "21        11774.0     5.7         8691.0   \n",
       "...           ...     ...            ...   \n",
       "3073  209837675.0     7.3     86198765.0   \n",
       "3074  150201498.0     5.8     54713046.0   \n",
       "3075   27693292.0     6.0     14118444.0   \n",
       "3076  125322469.0     6.6     42558390.0   \n",
       "3081    8323085.0     7.1        84283.0   \n",
       "\n",
       "                                                   mpaa  opening_theaters  \\\n",
       "3             Rated PG for some mild  thematic elements            3656.0   \n",
       "4         Rated R for sexual content and brief language               4.0   \n",
       "11    Rated R for sexual content, pervasive language...              47.0   \n",
       "13    Rated R for sequences of strong violence and l...            3203.0   \n",
       "21    Rated R for violence throughout, and some sexu...              10.0   \n",
       "...                                                 ...               ...   \n",
       "3073  Rated PG-13 for intense sequences of violence ...            3644.0   \n",
       "3074  Rated PG-13 for strong sequences of action vio...            4007.0   \n",
       "3075  Rated R for sequences of grisly bloody violenc...            3036.0   \n",
       "3076  Rated PG-13 for intense sequences of sci-fi vi...            3530.0   \n",
       "3081  Rated PG-13 for some intense sequences of viol...               4.0   \n",
       "\n",
       "                              title       budget  rank studio  year  ...  \\\n",
       "3                    Dolphin Tale 2   36000000.0    79     WB  2014  ...   \n",
       "4                A Dangerous Method   20000000.0   152    SPC  2011  ...   \n",
       "11                     Bachelorette    3000000.0   254   RTWC  2012  ...   \n",
       "13         Resident Evil: Afterlife   57500000.0    55   SGem  2010  ...   \n",
       "21                    Falcon Rising    4500000.0   563   Free  2014  ...   \n",
       "...                             ...          ...   ...    ...   ...  ...   \n",
       "3073                      Fast Five  125000000.0     6   Uni.  2011  ...   \n",
       "3074    G.I. Joe: The Rise of Cobra  175000000.0    18   Par.  2009  ...   \n",
       "3075                         Saw VI   11000000.0    98    LGF  2009  ...   \n",
       "3076           Terminator Salvation  200000000.0    23     WB  2009  ...   \n",
       "3081  Mandela: Long Walk to Freedom   35000000.0   136  Wein.  2013  ...   \n",
       "\n",
       "     June-Sep Oct-Nov Jan-May    Dec  mpaa_new     PG      R  PG-13  Top_Tier  \\\n",
       "3        True   False   False  False        PG   True  False  False     False   \n",
       "4       False    True   False  False         R  False   True  False     False   \n",
       "11       True   False   False  False         R  False   True  False     False   \n",
       "13       True   False   False  False         R  False   True  False     False   \n",
       "21       True   False   False  False         R  False   True  False     False   \n",
       "...       ...     ...     ...    ...       ...    ...    ...    ...       ...   \n",
       "3073    False   False    True  False     PG-13  False  False   True     False   \n",
       "3074     True   False   False  False     PG-13  False  False   True     False   \n",
       "3075    False    True   False  False         R  False   True  False     False   \n",
       "3076    False   False    True  False     PG-13  False  False   True     False   \n",
       "3081    False    True   False  False     PG-13  False  False   True     False   \n",
       "\n",
       "      Tier_2  \n",
       "3      False  \n",
       "4      False  \n",
       "11     False  \n",
       "13     False  \n",
       "21     False  \n",
       "...      ...  \n",
       "3073   False  \n",
       "3074   False  \n",
       "3075   False  \n",
       "3076   False  \n",
       "3081   False  \n",
       "\n",
       "[812 rows x 23 columns]"
      ]
     },
     "execution_count": 27,
     "metadata": {},
     "output_type": "execute_result"
    }
   ],
   "source": [
    "film.rename(columns = {\"gross\": \"revenue\", \n",
    "                       \"opening theaters\": \"opening_theaters\",\n",
    "                       \"opening\": \"opening_gross\"},\n",
    "      inplace = True)\n",
    "film"
   ]
  },
  {
   "cell_type": "markdown",
   "metadata": {},
   "source": [
    "### Exploratory Data Analysis (EDA)"
   ]
  },
  {
   "cell_type": "code",
   "execution_count": 29,
   "metadata": {},
   "outputs": [],
   "source": [
    "import seaborn as sns"
   ]
  },
  {
   "cell_type": "markdown",
   "metadata": {},
   "source": [
    "> Let's create our first plot that assesses the relationship between `Gross Revenue` and `Opening Weekend Revenue`"
   ]
  },
  {
   "cell_type": "code",
   "execution_count": 30,
   "metadata": {},
   "outputs": [
    {
     "data": {
      "text/plain": [
       "<seaborn.axisgrid.FacetGrid at 0x7fbdd8c6cc10>"
      ]
     },
     "execution_count": 30,
     "metadata": {},
     "output_type": "execute_result"
    },
    {
     "data": {
      "image/png": "[encoded data removed]",
      "text/plain": [
       "<Figure size 360x360 with 1 Axes>"
      ]
     },
     "metadata": {
      "needs_background": "light"
     },
     "output_type": "display_data"
    }
   ],
   "source": [
    "sns.lmplot(y = \"revenue\", x=\"opening_gross\", data = film, fit_reg = True)"
   ]
  },
  {
   "cell_type": "code",
   "execution_count": 35,
   "metadata": {},
   "outputs": [
    {
     "data": {
      "text/plain": [
       "<seaborn.axisgrid.JointGrid at 0x7fbdb886da00>"
      ]
     },
     "execution_count": 35,
     "metadata": {},
     "output_type": "execute_result"
    },
    {
     "data": {
      "image/png": "[encoded data removed]",
      "text/plain": [
       "<Figure size 576x576 with 3 Axes>"
      ]
     },
     "metadata": {},
     "output_type": "display_data"
    }
   ],
   "source": [
    "sns.set(style = \"ticks\")\n",
    "\n",
    "sns.jointplot(y = \"revenue\",\n",
    "              x = \"opening_gross\",\n",
    "              data = film,\n",
    "              kind = \"reg\",\n",
    "              joint_kws = {\"color\": \"green\"},\n",
    "              height = 8)"
   ]
  },
  {
   "cell_type": "markdown",
   "metadata": {},
   "source": [
    "> Let's also take a look at the relationship between the `gross revenue` and `the number of opening theaters`"
   ]
  },
  {
   "cell_type": "code",
   "execution_count": 36,
   "metadata": {},
   "outputs": [
    {
     "data": {
      "text/plain": [
       "<AxesSubplot:xlabel='opening_theaters', ylabel='revenue'>"
      ]
     },
     "execution_count": 36,
     "metadata": {},
     "output_type": "execute_result"
    },
    {
     "data": {
      "image/png": "[encoded data removed]",
      "text/plain": [
       "<Figure size 864x576 with 1 Axes>"
      ]
     },
     "metadata": {},
     "output_type": "display_data"
    }
   ],
   "source": [
    "plt.figure(figsize = (12, 8))\n",
    "sns.regplot(y = \"revenue\", x = \"opening_theaters\", data = film, fit_reg = True)"
   ]
  },
  {
   "cell_type": "markdown",
   "metadata": {},
   "source": [
    "> `Interpretation?`\n",
    "\n",
    "- The relatinship is positive, but not linear.\n",
    "\n",
    "- There's a sharp upward curve at around 3,000 theaters, which is an important finding for movie houses to consider."
   ]
  },
  {
   "cell_type": "markdown",
   "metadata": {},
   "source": [
    "> Let's assess the relationship between a movie's `gross revenue` and its allocated `budget`"
   ]
  },
  {
   "cell_type": "code",
   "execution_count": 37,
   "metadata": {},
   "outputs": [
    {
     "data": {
      "text/plain": [
       "<AxesSubplot:xlabel='budget', ylabel='revenue'>"
      ]
     },
     "execution_count": 37,
     "metadata": {},
     "output_type": "execute_result"
    },
    {
     "data": {
      "image/png": "[encoded data removed]",
      "text/plain": [
       "<Figure size 864x576 with 1 Axes>"
      ]
     },
     "metadata": {},
     "output_type": "display_data"
    }
   ],
   "source": [
    "plt.figure(figsize = (12, 8))\n",
    "sns.regplot(y = \"revenue\", x = \"budget\", data = film, fit_reg = True)"
   ]
  },
  {
   "cell_type": "markdown",
   "metadata": {},
   "source": [
    "> `Interpretation?`\n",
    "\n",
    "- The relationship look like, although there seems to be a side dispersion, especially the further one goes out in revenue/budget."
   ]
  },
  {
   "cell_type": "markdown",
   "metadata": {},
   "source": [
    "> Let's further examine how the `gross revenue` increases with `IMDb rating`"
   ]
  },
  {
   "cell_type": "code",
   "execution_count": 39,
   "metadata": {},
   "outputs": [
    {
     "data": {
      "text/plain": [
       "<AxesSubplot:xlabel='rating', ylabel='revenue'>"
      ]
     },
     "execution_count": 39,
     "metadata": {},
     "output_type": "execute_result"
    },
    {
     "data": {
      "image/png": "[encoded data removed]",
      "text/plain": [
       "<Figure size 864x576 with 1 Axes>"
      ]
     },
     "metadata": {},
     "output_type": "display_data"
    }
   ],
   "source": [
    "plt.figure(figsize = (12, 8))\n",
    "sns.regplot(y = \"revenue\", x = \"rating\", data = film, fit_reg = True)"
   ]
  },
  {
   "cell_type": "markdown",
   "metadata": {},
   "source": [
    "> `Interpretation?`\n",
    "\n",
    "- While there is an upward trend, it is a flat, indicating that the revenue is NOT strongly dependent upon the rating and perhaps the quality of the movie therein."
   ]
  },
  {
   "cell_type": "markdown",
   "metadata": {},
   "source": [
    "> You might want to generate a `diagonal correlational matrix` :)"
   ]
  },
  {
   "cell_type": "code",
   "execution_count": 48,
   "metadata": {},
   "outputs": [
    {
     "data": {
      "text/plain": [
       "<AxesSubplot:>"
      ]
     },
     "execution_count": 48,
     "metadata": {},
     "output_type": "execute_result"
    },
    {
     "data": {
      "image/png": "[encoded data removed]",
      "text/plain": [
       "<Figure size 1080x864 with 2 Axes>"
      ]
     },
     "metadata": {},
     "output_type": "display_data"
    }
   ],
   "source": [
    "sns.set(style = \"white\")\n",
    "\n",
    "corr = film.corr()\n",
    "\n",
    "mask = np.triu(np.ones_like(corr, dtype = np.bool))\n",
    "\n",
    "f, ax = plt.subplots(figsize = (15, 12))\n",
    "\n",
    "cmap = sns.diverging_palette(220, 10, as_cmap = True) # -1 through 1\n",
    "\n",
    "sns.heatmap(corr, mask = mask, cmap = cmap, vmax = .3, center = 0,\n",
    "            square = True, linewidths = .5, cbar_kws = {\"shrink\": .5})"
   ]
  },
  {
   "cell_type": "markdown",
   "metadata": {},
   "source": [
    "### Modeling Using Statsmodel"
   ]
  },
  {
   "cell_type": "markdown",
   "metadata": {},
   "source": [
    "> Having explored the data to some degree, let's dive into multiple models that look at how the `gross revenue` of a movie might be associated with the factors discussed in the beginning.\n",
    "\n",
    "> Given the `limited number of features`, using `Statsmodel` would be the ideal tool to leverage. \n",
    "\n",
    "> Let's examine whether there are any differences from the `sklearn` analysis."
   ]
  },
  {
   "cell_type": "markdown",
   "metadata": {},
   "source": [
    "##### Let's create train and test datasets to leverage later"
   ]
  },
  {
   "cell_type": "code",
   "execution_count": 41,
   "metadata": {},
   "outputs": [],
   "source": [
    "import sklearn\n",
    "from sklearn.model_selection import train_test_split # cross_validation is deprecated "
   ]
  },
  {
   "cell_type": "code",
   "execution_count": 42,
   "metadata": {},
   "outputs": [],
   "source": [
    "itrain, itest = train_test_split(range(film.shape[0]), train_size = 0.6)\n",
    "mask = np.ones(film.shape[0], dtype = \"int\")\n",
    "mask[itrain] = 1\n",
    "mask[itest] = 0\n",
    "mask = (mask == 1)"
   ]
  },
  {
   "cell_type": "code",
   "execution_count": 43,
   "metadata": {},
   "outputs": [],
   "source": [
    "from statsmodels.formula.api import ols"
   ]
  },
  {
   "cell_type": "markdown",
   "metadata": {},
   "source": [
    "> Let's specify model that leverages only three variables (counting season as a single variable)"
   ]
  },
  {
   "cell_type": "markdown",
   "metadata": {},
   "source": [
    "$$ \\widehat{revenue} = b_0 + b_1budget + b_2theaters + b_3season + \\epsilon $$"
   ]
  },
  {
   "cell_type": "code",
   "execution_count": 44,
   "metadata": {},
   "outputs": [
    {
     "data": {
      "text/html": [
       "<table class=\"simpletable\">\n",
       "<caption>OLS Regression Results</caption>\n",
       "<tr>\n",
       "  <th>Dep. Variable:</th>         <td>revenue</td>     <th>  R-squared:         </th> <td>   0.589</td> \n",
       "</tr>\n",
       "<tr>\n",
       "  <th>Model:</th>                   <td>OLS</td>       <th>  Adj. R-squared:    </th> <td>   0.585</td> \n",
       "</tr>\n",
       "<tr>\n",
       "  <th>Method:</th>             <td>Least Squares</td>  <th>  F-statistic:       </th> <td>   137.8</td> \n",
       "</tr>\n",
       "<tr>\n",
       "  <th>Date:</th>             <td>Mon, 07 Sep 2020</td> <th>  Prob (F-statistic):</th> <td>1.86e-90</td> \n",
       "</tr>\n",
       "<tr>\n",
       "  <th>Time:</th>                 <td>15:13:33</td>     <th>  Log-Likelihood:    </th> <td> -9300.2</td> \n",
       "</tr>\n",
       "<tr>\n",
       "  <th>No. Observations:</th>      <td>   487</td>      <th>  AIC:               </th> <td>1.861e+04</td>\n",
       "</tr>\n",
       "<tr>\n",
       "  <th>Df Residuals:</th>          <td>   481</td>      <th>  BIC:               </th> <td>1.864e+04</td>\n",
       "</tr>\n",
       "<tr>\n",
       "  <th>Df Model:</th>              <td>     5</td>      <th>                     </th>     <td> </td>    \n",
       "</tr>\n",
       "<tr>\n",
       "  <th>Covariance Type:</th>      <td>nonrobust</td>    <th>                     </th>     <td> </td>    \n",
       "</tr>\n",
       "</table>\n",
       "<table class=\"simpletable\">\n",
       "<tr>\n",
       "           <td></td>             <th>coef</th>     <th>std err</th>      <th>t</th>      <th>P>|t|</th>  <th>[0.025</th>    <th>0.975]</th>  \n",
       "</tr>\n",
       "<tr>\n",
       "  <th>Intercept</th>          <td> 6.169e+06</td> <td>  6.9e+06</td> <td>    0.894</td> <td> 0.372</td> <td>-7.39e+06</td> <td> 1.97e+07</td>\n",
       "</tr>\n",
       "<tr>\n",
       "  <th>season[T.Jan-May]</th>  <td>-1.985e+07</td> <td> 7.63e+06</td> <td>   -2.603</td> <td> 0.010</td> <td>-3.48e+07</td> <td>-4.87e+06</td>\n",
       "</tr>\n",
       "<tr>\n",
       "  <th>season[T.June-Sep]</th> <td>-1.608e+07</td> <td> 7.52e+06</td> <td>   -2.137</td> <td> 0.033</td> <td>-3.09e+07</td> <td> -1.3e+06</td>\n",
       "</tr>\n",
       "<tr>\n",
       "  <th>season[T.Oct-Nov]</th>  <td>-8.745e+06</td> <td> 7.99e+06</td> <td>   -1.094</td> <td> 0.274</td> <td>-2.44e+07</td> <td> 6.96e+06</td>\n",
       "</tr>\n",
       "<tr>\n",
       "  <th>budget</th>             <td>    0.8602</td> <td>    0.051</td> <td>   16.936</td> <td> 0.000</td> <td>    0.760</td> <td>    0.960</td>\n",
       "</tr>\n",
       "<tr>\n",
       "  <th>opening_theaters</th>   <td> 1.101e+04</td> <td> 1987.106</td> <td>    5.539</td> <td> 0.000</td> <td> 7102.118</td> <td> 1.49e+04</td>\n",
       "</tr>\n",
       "</table>\n",
       "<table class=\"simpletable\">\n",
       "<tr>\n",
       "  <th>Omnibus:</th>       <td>267.841</td> <th>  Durbin-Watson:     </th> <td>   2.015</td>\n",
       "</tr>\n",
       "<tr>\n",
       "  <th>Prob(Omnibus):</th> <td> 0.000</td>  <th>  Jarque-Bera (JB):  </th> <td>3447.066</td>\n",
       "</tr>\n",
       "<tr>\n",
       "  <th>Skew:</th>          <td> 2.095</td>  <th>  Prob(JB):          </th> <td>    0.00</td>\n",
       "</tr>\n",
       "<tr>\n",
       "  <th>Kurtosis:</th>      <td>15.342</td>  <th>  Cond. No.          </th> <td>4.46e+08</td>\n",
       "</tr>\n",
       "</table><br/><br/>Notes:<br/>[1] Standard Errors assume that the covariance matrix of the errors is correctly specified.<br/>[2] The condition number is large, 4.46e+08. This might indicate that there are<br/>strong multicollinearity or other numerical problems."
      ],
      "text/plain": [
       "<class 'statsmodels.iolib.summary.Summary'>\n",
       "\"\"\"\n",
       "                            OLS Regression Results                            \n",
       "==============================================================================\n",
       "Dep. Variable:                revenue   R-squared:                       0.589\n",
       "Model:                            OLS   Adj. R-squared:                  0.585\n",
       "Method:                 Least Squares   F-statistic:                     137.8\n",
       "Date:                Mon, 07 Sep 2020   Prob (F-statistic):           1.86e-90\n",
       "Time:                        15:13:33   Log-Likelihood:                -9300.2\n",
       "No. Observations:                 487   AIC:                         1.861e+04\n",
       "Df Residuals:                     481   BIC:                         1.864e+04\n",
       "Df Model:                           5                                         \n",
       "Covariance Type:            nonrobust                                         \n",
       "======================================================================================\n",
       "                         coef    std err          t      P>|t|      [0.025      0.975]\n",
       "--------------------------------------------------------------------------------------\n",
       "Intercept           6.169e+06    6.9e+06      0.894      0.372   -7.39e+06    1.97e+07\n",
       "season[T.Jan-May]  -1.985e+07   7.63e+06     -2.603      0.010   -3.48e+07   -4.87e+06\n",
       "season[T.June-Sep] -1.608e+07   7.52e+06     -2.137      0.033   -3.09e+07    -1.3e+06\n",
       "season[T.Oct-Nov]  -8.745e+06   7.99e+06     -1.094      0.274   -2.44e+07    6.96e+06\n",
       "budget                 0.8602      0.051     16.936      0.000       0.760       0.960\n",
       "opening_theaters    1.101e+04   1987.106      5.539      0.000    7102.118    1.49e+04\n",
       "==============================================================================\n",
       "Omnibus:                      267.841   Durbin-Watson:                   2.015\n",
       "Prob(Omnibus):                  0.000   Jarque-Bera (JB):             3447.066\n",
       "Skew:                           2.095   Prob(JB):                         0.00\n",
       "Kurtosis:                      15.342   Cond. No.                     4.46e+08\n",
       "==============================================================================\n",
       "\n",
       "Notes:\n",
       "[1] Standard Errors assume that the covariance matrix of the errors is correctly specified.\n",
       "[2] The condition number is large, 4.46e+08. This might indicate that there are\n",
       "strong multicollinearity or other numerical problems.\n",
       "\"\"\""
      ]
     },
     "execution_count": 44,
     "metadata": {},
     "output_type": "execute_result"
    }
   ],
   "source": [
    "m1 = ols(\"revenue ~ budget + opening_theaters + season\", film[mask]).fit()\n",
    "m1.summary()"
   ]
  },
  {
   "cell_type": "markdown",
   "metadata": {},
   "source": [
    "> `Interpretation?`\n",
    "\n",
    "- The R-squared associated with this model is about average, with plenty of unexplained variance in the data.\n",
    "\n",
    "- As an intial model, it seems to raise an interesting question regarding the role of budget.\n"
   ]
  },
  {
   "cell_type": "markdown",
   "metadata": {},
   "source": [
    "> Model 2 adds in the gross revenue for the opening weekend. "
   ]
  },
  {
   "cell_type": "code",
   "execution_count": 45,
   "metadata": {},
   "outputs": [
    {
     "data": {
      "text/html": [
       "<table class=\"simpletable\">\n",
       "<caption>OLS Regression Results</caption>\n",
       "<tr>\n",
       "  <th>Dep. Variable:</th>         <td>revenue</td>     <th>  R-squared:         </th> <td>   0.825</td> \n",
       "</tr>\n",
       "<tr>\n",
       "  <th>Model:</th>                   <td>OLS</td>       <th>  Adj. R-squared:    </th> <td>   0.823</td> \n",
       "</tr>\n",
       "<tr>\n",
       "  <th>Method:</th>             <td>Least Squares</td>  <th>  F-statistic:       </th> <td>   378.1</td> \n",
       "</tr>\n",
       "<tr>\n",
       "  <th>Date:</th>             <td>Mon, 07 Sep 2020</td> <th>  Prob (F-statistic):</th> <td>2.64e-178</td>\n",
       "</tr>\n",
       "<tr>\n",
       "  <th>Time:</th>                 <td>15:17:32</td>     <th>  Log-Likelihood:    </th> <td> -9091.7</td> \n",
       "</tr>\n",
       "<tr>\n",
       "  <th>No. Observations:</th>      <td>   487</td>      <th>  AIC:               </th> <td>1.820e+04</td>\n",
       "</tr>\n",
       "<tr>\n",
       "  <th>Df Residuals:</th>          <td>   480</td>      <th>  BIC:               </th> <td>1.823e+04</td>\n",
       "</tr>\n",
       "<tr>\n",
       "  <th>Df Model:</th>              <td>     6</td>      <th>                     </th>     <td> </td>    \n",
       "</tr>\n",
       "<tr>\n",
       "  <th>Covariance Type:</th>      <td>nonrobust</td>    <th>                     </th>     <td> </td>    \n",
       "</tr>\n",
       "</table>\n",
       "<table class=\"simpletable\">\n",
       "<tr>\n",
       "           <td></td>             <th>coef</th>     <th>std err</th>      <th>t</th>      <th>P>|t|</th>  <th>[0.025</th>    <th>0.975]</th>  \n",
       "</tr>\n",
       "<tr>\n",
       "  <th>Intercept</th>          <td> 2.857e+07</td> <td> 4.59e+06</td> <td>    6.226</td> <td> 0.000</td> <td> 1.96e+07</td> <td> 3.76e+07</td>\n",
       "</tr>\n",
       "<tr>\n",
       "  <th>season[T.Jan-May]</th>  <td>-3.252e+07</td> <td>    5e+06</td> <td>   -6.505</td> <td> 0.000</td> <td>-4.23e+07</td> <td>-2.27e+07</td>\n",
       "</tr>\n",
       "<tr>\n",
       "  <th>season[T.June-Sep]</th> <td>-2.543e+07</td> <td> 4.92e+06</td> <td>   -5.166</td> <td> 0.000</td> <td>-3.51e+07</td> <td>-1.58e+07</td>\n",
       "</tr>\n",
       "<tr>\n",
       "  <th>season[T.Oct-Nov]</th>  <td>-2.142e+07</td> <td> 5.24e+06</td> <td>   -4.088</td> <td> 0.000</td> <td>-3.17e+07</td> <td>-1.11e+07</td>\n",
       "</tr>\n",
       "<tr>\n",
       "  <th>budget</th>             <td>    0.3034</td> <td>    0.040</td> <td>    7.645</td> <td> 0.000</td> <td>    0.225</td> <td>    0.381</td>\n",
       "</tr>\n",
       "<tr>\n",
       "  <th>opening_theaters</th>   <td>-3657.9811</td> <td> 1418.383</td> <td>   -2.579</td> <td> 0.010</td> <td>-6444.988</td> <td> -870.974</td>\n",
       "</tr>\n",
       "<tr>\n",
       "  <th>opening_gross</th>      <td>    2.7327</td> <td>    0.107</td> <td>   25.493</td> <td> 0.000</td> <td>    2.522</td> <td>    2.943</td>\n",
       "</tr>\n",
       "</table>\n",
       "<table class=\"simpletable\">\n",
       "<tr>\n",
       "  <th>Omnibus:</th>       <td>551.914</td> <th>  Durbin-Watson:     </th> <td>   1.938</td> \n",
       "</tr>\n",
       "<tr>\n",
       "  <th>Prob(Omnibus):</th> <td> 0.000</td>  <th>  Jarque-Bera (JB):  </th> <td>65165.658</td>\n",
       "</tr>\n",
       "<tr>\n",
       "  <th>Skew:</th>          <td> 4.977</td>  <th>  Prob(JB):          </th> <td>    0.00</td> \n",
       "</tr>\n",
       "<tr>\n",
       "  <th>Kurtosis:</th>      <td>58.789</td>  <th>  Cond. No.          </th> <td>4.72e+08</td> \n",
       "</tr>\n",
       "</table><br/><br/>Notes:<br/>[1] Standard Errors assume that the covariance matrix of the errors is correctly specified.<br/>[2] The condition number is large, 4.72e+08. This might indicate that there are<br/>strong multicollinearity or other numerical problems."
      ],
      "text/plain": [
       "<class 'statsmodels.iolib.summary.Summary'>\n",
       "\"\"\"\n",
       "                            OLS Regression Results                            \n",
       "==============================================================================\n",
       "Dep. Variable:                revenue   R-squared:                       0.825\n",
       "Model:                            OLS   Adj. R-squared:                  0.823\n",
       "Method:                 Least Squares   F-statistic:                     378.1\n",
       "Date:                Mon, 07 Sep 2020   Prob (F-statistic):          2.64e-178\n",
       "Time:                        15:17:32   Log-Likelihood:                -9091.7\n",
       "No. Observations:                 487   AIC:                         1.820e+04\n",
       "Df Residuals:                     480   BIC:                         1.823e+04\n",
       "Df Model:                           6                                         \n",
       "Covariance Type:            nonrobust                                         \n",
       "======================================================================================\n",
       "                         coef    std err          t      P>|t|      [0.025      0.975]\n",
       "--------------------------------------------------------------------------------------\n",
       "Intercept           2.857e+07   4.59e+06      6.226      0.000    1.96e+07    3.76e+07\n",
       "season[T.Jan-May]  -3.252e+07      5e+06     -6.505      0.000   -4.23e+07   -2.27e+07\n",
       "season[T.June-Sep] -2.543e+07   4.92e+06     -5.166      0.000   -3.51e+07   -1.58e+07\n",
       "season[T.Oct-Nov]  -2.142e+07   5.24e+06     -4.088      0.000   -3.17e+07   -1.11e+07\n",
       "budget                 0.3034      0.040      7.645      0.000       0.225       0.381\n",
       "opening_theaters   -3657.9811   1418.383     -2.579      0.010   -6444.988    -870.974\n",
       "opening_gross          2.7327      0.107     25.493      0.000       2.522       2.943\n",
       "==============================================================================\n",
       "Omnibus:                      551.914   Durbin-Watson:                   1.938\n",
       "Prob(Omnibus):                  0.000   Jarque-Bera (JB):            65165.658\n",
       "Skew:                           4.977   Prob(JB):                         0.00\n",
       "Kurtosis:                      58.789   Cond. No.                     4.72e+08\n",
       "==============================================================================\n",
       "\n",
       "Notes:\n",
       "[1] Standard Errors assume that the covariance matrix of the errors is correctly specified.\n",
       "[2] The condition number is large, 4.72e+08. This might indicate that there are\n",
       "strong multicollinearity or other numerical problems.\n",
       "\"\"\""
      ]
     },
     "execution_count": 45,
     "metadata": {},
     "output_type": "execute_result"
    }
   ],
   "source": [
    "m2 = ols(\"revenue ~ budget + opening_theaters + season + opening_gross\", film[mask]).fit()\n",
    "m2.summary()"
   ]
  },
  {
   "cell_type": "markdown",
   "metadata": {},
   "source": [
    "> `Interpretation?`\n",
    "\n",
    "- The coefficient on the variable `opening theaters` is reversed, which implies that adding in the gross opening weekend has exposed the non-linear relationship.\n",
    "\n",
    "- In addition, there is likely correlation between the opening weekend gross and the number of opening theaters."
   ]
  },
  {
   "cell_type": "markdown",
   "metadata": {},
   "source": [
    "> Let's run Model 3 that incorporates whether the movie was part of a big studio"
   ]
  },
  {
   "cell_type": "code",
   "execution_count": null,
   "metadata": {},
   "outputs": [],
   "source": []
  },
  {
   "cell_type": "markdown",
   "metadata": {},
   "source": [
    "> According to the results, ...?"
   ]
  },
  {
   "cell_type": "code",
   "execution_count": null,
   "metadata": {},
   "outputs": [],
   "source": []
  },
  {
   "cell_type": "markdown",
   "metadata": {},
   "source": [
    "> Model 5 (appears to have the best results, with the minimum required variables."
   ]
  },
  {
   "cell_type": "markdown",
   "metadata": {},
   "source": [
    "> Now, let's compare the results of our Model 1 through Model 4 by testing the observed vs. Predicted fits."
   ]
  },
  {
   "cell_type": "code",
   "execution_count": null,
   "metadata": {
    "scrolled": true
   },
   "outputs": [],
   "source": []
  },
  {
   "cell_type": "markdown",
   "metadata": {},
   "source": [
    "> Let's create a non-parametric lowess curve that attempts to be a comparison to help us determine how well the line of best fit describes the true nature of the data."
   ]
  },
  {
   "cell_type": "code",
   "execution_count": null,
   "metadata": {},
   "outputs": [],
   "source": []
  },
  {
   "cell_type": "markdown",
   "metadata": {},
   "source": [
    "> Let's run some assumption checks for linear model."
   ]
  },
  {
   "cell_type": "code",
   "execution_count": null,
   "metadata": {},
   "outputs": [],
   "source": []
  },
  {
   "cell_type": "markdown",
   "metadata": {},
   "source": [
    "> `Interpretation?`"
   ]
  },
  {
   "cell_type": "code",
   "execution_count": null,
   "metadata": {},
   "outputs": [],
   "source": []
  },
  {
   "cell_type": "markdown",
   "metadata": {},
   "source": [
    "> How about Model 4?"
   ]
  },
  {
   "cell_type": "code",
   "execution_count": null,
   "metadata": {},
   "outputs": [],
   "source": []
  },
  {
   "cell_type": "markdown",
   "metadata": {},
   "source": [
    "> `Interpretation?`"
   ]
  },
  {
   "cell_type": "markdown",
   "metadata": {},
   "source": [
    "### Modeling with SKlearn as an analysis alternative"
   ]
  },
  {
   "cell_type": "code",
   "execution_count": null,
   "metadata": {},
   "outputs": [],
   "source": []
  },
  {
   "cell_type": "markdown",
   "metadata": {},
   "source": []
  },
  {
   "cell_type": "code",
   "execution_count": null,
   "metadata": {},
   "outputs": [],
   "source": []
  },
  {
   "cell_type": "markdown",
   "metadata": {},
   "source": [
    "> Let's create a LinearRegression object"
   ]
  },
  {
   "cell_type": "code",
   "execution_count": null,
   "metadata": {},
   "outputs": [],
   "source": []
  },
  {
   "cell_type": "markdown",
   "metadata": {},
   "source": [
    "> Let's fit the outcome gross revenue variable on this model"
   ]
  },
  {
   "cell_type": "code",
   "execution_count": null,
   "metadata": {},
   "outputs": [],
   "source": []
  },
  {
   "cell_type": "markdown",
   "metadata": {},
   "source": [
    "> The coefficients?"
   ]
  },
  {
   "cell_type": "code",
   "execution_count": null,
   "metadata": {},
   "outputs": [],
   "source": []
  },
  {
   "cell_type": "markdown",
   "metadata": {},
   "source": [
    "##### Let's create a train/test set to rework lm and calculate Mean Squared Error (MSE)"
   ]
  },
  {
   "cell_type": "markdown",
   "metadata": {},
   "source": [
    "> Let's create a set of training and test data"
   ]
  },
  {
   "cell_type": "code",
   "execution_count": null,
   "metadata": {},
   "outputs": [],
   "source": []
  },
  {
   "cell_type": "markdown",
   "metadata": {},
   "source": [
    "> Let's fit our training data to the model specified above."
   ]
  },
  {
   "cell_type": "code",
   "execution_count": null,
   "metadata": {},
   "outputs": [],
   "source": []
  },
  {
   "cell_type": "markdown",
   "metadata": {},
   "source": [
    "> Considering the MSE of our model on the fit versus train data"
   ]
  },
  {
   "cell_type": "code",
   "execution_count": null,
   "metadata": {},
   "outputs": [],
   "source": []
  },
  {
   "cell_type": "markdown",
   "metadata": {},
   "source": [
    "##### Interpretation?"
   ]
  },
  {
   "cell_type": "markdown",
   "metadata": {},
   "source": [
    "> Let's visualize the results of our model against the residuals"
   ]
  },
  {
   "cell_type": "code",
   "execution_count": null,
   "metadata": {},
   "outputs": [],
   "source": []
  },
  {
   "cell_type": "markdown",
   "metadata": {},
   "source": [
    "> Aside from the strong clustering of data points towards the left (lower) end of the spectrum, there generally appears to be equally distributed residuals"
   ]
  },
  {
   "cell_type": "markdown",
   "metadata": {},
   "source": [
    "### Employ `sklearn` to analyze models of increasing complexity while continuing to tune parameters"
   ]
  },
  {
   "cell_type": "markdown",
   "metadata": {},
   "source": [
    "> "
   ]
  },
  {
   "cell_type": "markdown",
   "metadata": {},
   "source": [
    "Please run the following lines of code :)\n",
    "    \n",
    "```Python \n",
    "\n",
    "```\n",
    "    "
   ]
  },
  {
   "cell_type": "code",
   "execution_count": null,
   "metadata": {},
   "outputs": [],
   "source": []
  },
  {
   "cell_type": "markdown",
   "metadata": {},
   "source": [
    "> Model 1: A budget-only model as the baseline"
   ]
  },
  {
   "cell_type": "code",
   "execution_count": null,
   "metadata": {},
   "outputs": [],
   "source": [
    "reg_1 = Lasso()"
   ]
  },
  {
   "cell_type": "markdown",
   "metadata": {},
   "source": [
    "> `Interpretation?`"
   ]
  },
  {
   "cell_type": "code",
   "execution_count": null,
   "metadata": {},
   "outputs": [],
   "source": []
  },
  {
   "cell_type": "markdown",
   "metadata": {},
   "source": [
    "> Let's incorporate the number of openings theaters as an additional predictor"
   ]
  },
  {
   "cell_type": "code",
   "execution_count": null,
   "metadata": {},
   "outputs": [],
   "source": []
  },
  {
   "cell_type": "markdown",
   "metadata": {},
   "source": [
    "> Then, let's add opening weekend revenue"
   ]
  },
  {
   "cell_type": "code",
   "execution_count": null,
   "metadata": {},
   "outputs": [],
   "source": []
  },
  {
   "cell_type": "markdown",
   "metadata": {},
   "source": [
    "> Let's add the season that the movie was released in"
   ]
  },
  {
   "cell_type": "code",
   "execution_count": null,
   "metadata": {},
   "outputs": [],
   "source": []
  },
  {
   "cell_type": "markdown",
   "metadata": {},
   "source": [
    "> Let's includes the studio, in the form of 'Top_Tier' which measures if the studio is in the top 5 prolific studios in the industry"
   ]
  },
  {
   "cell_type": "code",
   "execution_count": null,
   "metadata": {},
   "outputs": [],
   "source": []
  },
  {
   "cell_type": "markdown",
   "metadata": {},
   "source": [
    "> Now, With Tier_2 studio added in there to see if the movie belonging to any of the top 10 studios has an effect"
   ]
  },
  {
   "cell_type": "code",
   "execution_count": null,
   "metadata": {},
   "outputs": [],
   "source": []
  },
  {
   "cell_type": "markdown",
   "metadata": {},
   "source": [
    "> How about adding MPAA Rating to the model"
   ]
  },
  {
   "cell_type": "code",
   "execution_count": null,
   "metadata": {},
   "outputs": [],
   "source": []
  },
  {
   "cell_type": "markdown",
   "metadata": {},
   "source": [
    "> Lastly, let's add IMDb Movie Rating"
   ]
  },
  {
   "cell_type": "code",
   "execution_count": null,
   "metadata": {},
   "outputs": [],
   "source": []
  },
  {
   "cell_type": "markdown",
   "metadata": {},
   "source": [
    "> Let's compare the output of the above models with the models received from the Statsmodel analysis :)"
   ]
  },
  {
   "cell_type": "code",
   "execution_count": null,
   "metadata": {},
   "outputs": [],
   "source": []
  },
  {
   "cell_type": "markdown",
   "metadata": {},
   "source": [
    "> Let's compile the results from the sklearn variable"
   ]
  },
  {
   "cell_type": "code",
   "execution_count": null,
   "metadata": {},
   "outputs": [],
   "source": []
  },
  {
   "cell_type": "markdown",
   "metadata": {},
   "source": [
    "> Let's have a look at the coefficients"
   ]
  },
  {
   "cell_type": "code",
   "execution_count": null,
   "metadata": {},
   "outputs": [],
   "source": []
  },
  {
   "cell_type": "markdown",
   "metadata": {
    "scrolled": false
   },
   "source": [
    "> `Interpretation?`"
   ]
  },
  {
   "cell_type": "code",
   "execution_count": null,
   "metadata": {
    "scrolled": false
   },
   "outputs": [],
   "source": []
  },
  {
   "cell_type": "markdown",
   "metadata": {
    "collapsed": true
   },
   "source": [
    "### Results and Discussion"
   ]
  },
  {
   "cell_type": "markdown",
   "metadata": {},
   "source": [
    "> The series of analyses have yielded interesting results--below are some implications we could draw.\n"
   ]
  },
  {
   "cell_type": "markdown",
   "metadata": {},
   "source": [
    "> `Thank you for working with the script :)`"
   ]
  },
  {
   "cell_type": "code",
   "execution_count": null,
   "metadata": {},
   "outputs": [],
   "source": [
    "exit()"
   ]
  }
 ],
 "metadata": {
  "kernelspec": {
   "display_name": "Python 3",
   "language": "python",
   "name": "python3"
  },
  "language_info": {
   "codemirror_mode": {
    "name": "ipython",
    "version": 3
   },
   "file_extension": ".py",
   "mimetype": "text/x-python",
   "name": "python",
   "nbconvert_exporter": "python",
   "pygments_lexer": "ipython3",
   "version": "3.8.3"
  }
 },
 "nbformat": 4,
 "nbformat_minor": 1
}
