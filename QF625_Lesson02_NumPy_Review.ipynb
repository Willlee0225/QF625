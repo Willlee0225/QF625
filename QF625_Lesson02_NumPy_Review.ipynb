{
 "cells": [
  {
   "cell_type": "markdown",
   "metadata": {},
   "source": [
    "# QF 625 Introduction to Programming\n",
    "## Lesson 2 | An Introduction to `NumPy` | `RE`view"
   ]
  },
  {
   "cell_type": "markdown",
   "metadata": {},
   "source": [
    "> Welcome back, Team :) Let's begin our first meeting of Week 2.\n",
    "\n",
    "> In the previous lesson, you have learned about `methods and functions` that are available in built-in Python, along with variables and data types.\n",
    "\n",
    "> First, let us begin with some basic built-in Python that you need to fully understand before we proceed."
   ]
  },
  {
   "cell_type": "markdown",
   "metadata": {},
   "source": [
    "> Here's a quick reminder regarding the useful hotkeys for scripting on Jupyter Notebook :)"
   ]
  },
  {
   "cell_type": "markdown",
   "metadata": {},
   "source": [
    "- `a` inserts a cell above \n",
    "- `b` inserts a cell below\n",
    "- `dd` (double d) deletes a cell \n",
    "- `esc` jumps out of the cell\n",
    "- `return/enter` gets into the cell\n",
    "- `m` makes your cell markdown\n",
    "- `y` makes your cell code\n",
    "- `shift + control + -` splits the cell\n",
    "- `shift + m` merges the cells\n",
    "- `shift + l` adds line numbers into the cell"
   ]
  },
  {
   "cell_type": "markdown",
   "metadata": {},
   "source": [
    "> Now you will start learning about how to use `packages`.\n",
    "\n",
    "> As Python is open-source language, using the humongous ecosystem of packages will help you work more efficiently.\n",
    "\n",
    "> A `package is a collection of Python modules and scripts` giving you new data types, functions, and methods.\n"
   ]
  },
  {
   "cell_type": "markdown",
   "metadata": {},
   "source": [
    "### How to `install` a ***package***?\n",
    "\n",
    "> To use a package, you need to download it first.\n",
    "\n",
    "> Let's use the command `pip3 install target_package` so that you can install packages of your interest.\n",
    "\n",
    "> For downloading a package, you need to do this just once, yet you should import in your workspace whenever you wish to use it.\n",
    "\n",
    "> The command below will load the NumPy package into Python for your use."
   ]
  },
  {
   "cell_type": "code",
   "execution_count": null,
   "metadata": {},
   "outputs": [],
   "source": [
    "import numpy as np"
   ]
  },
  {
   "cell_type": "markdown",
   "metadata": {},
   "source": [
    "***Wait, why do we use alias here (i.e., as `np`)? ?*** \n",
    "\n",
    "> As you will see below, \n",
    "\n",
    "- To access the array() function, you need to use np.array() to indicate that the function is from the NumPy package.\n",
    "\n",
    "> Yes, the reason why we have used np as alias is to minimize our typing task."
   ]
  },
  {
   "cell_type": "markdown",
   "metadata": {},
   "source": [
    "### The Basics"
   ]
  },
  {
   "cell_type": "markdown",
   "metadata": {},
   "source": [
    "> Using `NumPy`, you can create a new data type called `array`.\n",
    "\n",
    "> Why use data type `array`?\n",
    "\n",
    "**`array` is useful for financial analysis because...**\n",
    "\n",
    "- array `stores` data more efficiently\n",
    "\n",
    "- array `performs` faster than built-in Python lists in terms of computations (access in reading and writing items faster as the package is optimized for numerical analyses)\n",
    "\n",
    "- array `shows` better performance with relatively larger datasets\n",
    "\n",
    "- array, most importantly, **`enables` you to utilize `array-related functions`**--you can perform statistical modelling and visualization easier, which is critical for financial analysis.\n",
    "\n",
    "\n",
    "\n"
   ]
  },
  {
   "cell_type": "markdown",
   "metadata": {},
   "source": [
    "> **A good way to understand about the usefulness of NumPy is to compare array with list (yes, that list that you learned in the previous lesson).**"
   ]
  },
  {
   "cell_type": "markdown",
   "metadata": {},
   "source": [
    "#### Differences 1. Arrays can contain only a single data type (unlike lists)."
   ]
  },
  {
   "cell_type": "code",
   "execution_count": null,
   "metadata": {},
   "outputs": [],
   "source": [
    "your_list = [\"Year\", 2019, False]\n",
    "print(your_list)"
   ]
  },
  {
   "cell_type": "code",
   "execution_count": null,
   "metadata": {},
   "outputs": [],
   "source": [
    "type(your_list)"
   ]
  },
  {
   "cell_type": "markdown",
   "metadata": {},
   "source": [
    "> As you will see below, arrays in NumPy will convert the elements in the list to the most compatible data types."
   ]
  },
  {
   "cell_type": "code",
   "execution_count": null,
   "metadata": {},
   "outputs": [],
   "source": [
    "# Note that function array() takes a list as its input. \n",
    "your_array = np.array([\"Year\", 2019, False])\n",
    "\n",
    "# As noted above, to use array(), you need to use np.array()\n",
    "print(your_array)\n",
    "\n",
    "your_array2 = np.array([2020, \"Coronavirus\", True])\n",
    "print(your_array2)"
   ]
  },
  {
   "cell_type": "code",
   "execution_count": null,
   "metadata": {},
   "outputs": [],
   "source": [
    "print(type(your_array))"
   ]
  },
  {
   "cell_type": "code",
   "execution_count": null,
   "metadata": {},
   "outputs": [],
   "source": [
    "# Here are lists.\n",
    "earnings_list = [10.09, 10.28, 2.21, 6.19, 8.24]\n",
    "prices_list = [99.98, 87.68, 154.23, 162.12, 121.11]"
   ]
  },
  {
   "cell_type": "markdown",
   "metadata": {},
   "source": [
    "> How would you make objects `earnings` and `prices` arrays?"
   ]
  },
  {
   "cell_type": "code",
   "execution_count": null,
   "metadata": {},
   "outputs": [],
   "source": [
    "earnings_array = np.array(earnings_list)\n",
    "prices_array = np.array(prices_list)\n",
    "\n",
    "print(earnings_array);print(prices_array)"
   ]
  },
  {
   "cell_type": "markdown",
   "metadata": {},
   "source": [
    "#### Differences 2. Arrays have different ways of operations (than lists)."
   ]
  },
  {
   "cell_type": "markdown",
   "metadata": {},
   "source": [
    "> Let's see how lists behave first."
   ]
  },
  {
   "cell_type": "code",
   "execution_count": null,
   "metadata": {},
   "outputs": [],
   "source": [
    "pe_ratio_list = prices_list + earnings_list\n",
    "print(pe_ratio_list)"
   ]
  },
  {
   "cell_type": "markdown",
   "metadata": {},
   "source": [
    "> The two objects were merely concatenated. That's not what we want..."
   ]
  },
  {
   "cell_type": "markdown",
   "metadata": {},
   "source": [
    "> ***Arrays allow for efficient numerical manipulation of its elements.***\n",
    "\n",
    "> Let's calculate `the dollar amount an investor can expect to invest in a company to receive one dollar of that company’s earnings`--yes, the `price to earnings ratio`--using two arrays, earnings_array and prices_array above."
   ]
  },
  {
   "cell_type": "code",
   "execution_count": null,
   "metadata": {},
   "outputs": [],
   "source": [
    "pe_ratio_array = prices_array / earnings_array\n",
    "print(pe_ratio_array)"
   ]
  },
  {
   "cell_type": "markdown",
   "metadata": {},
   "source": [
    "> You could see here that arrays perform `element-wise mathematical operations`."
   ]
  },
  {
   "cell_type": "markdown",
   "metadata": {},
   "source": [
    "#### Indexing, Subsetting, Filtering, & Slicing: Similarities between `array` and `list`\n",
    "\n",
    "> We have seen differences between arrays and lists.\n",
    "\n",
    "> Here are also similarities."
   ]
  },
  {
   "cell_type": "code",
   "execution_count": null,
   "metadata": {},
   "outputs": [],
   "source": [
    "earnings_subset_three_in_the_middle = earnings_array[1:4]\n",
    "print(earnings_subset_three_in_the_middle)"
   ]
  },
  {
   "cell_type": "code",
   "execution_count": null,
   "metadata": {},
   "outputs": [],
   "source": [
    "earnings_subset_the_last_two = earnings_array[-2:]\n",
    "print(earnings_subset_the_last_two)"
   ]
  },
  {
   "cell_type": "code",
   "execution_count": null,
   "metadata": {},
   "outputs": [],
   "source": [
    "earnings_subset_every_other_element = earnings_array[0:5:2]"
   ]
  },
  {
   "cell_type": "markdown",
   "metadata": {},
   "source": [
    "> Please address the error message above."
   ]
  },
  {
   "cell_type": "markdown",
   "metadata": {},
   "source": [
    "### Arrays in NumPy can be `multi`dimensional."
   ]
  },
  {
   "cell_type": "markdown",
   "metadata": {},
   "source": [
    "![](ndim.png)\n",
    "#### How to add image (CLICK HERE TWICE)"
   ]
  },
  {
   "cell_type": "markdown",
   "metadata": {},
   "source": [
    "> A common form of financial data comes with a rectangular form of data that contains rows and columns. \n",
    "\n",
    "> Such data can be represented with two-dimensional arrays."
   ]
  },
  {
   "cell_type": "markdown",
   "metadata": {},
   "source": [
    "> To create a two-dimensional array using NumPy, you can use the same function array()."
   ]
  },
  {
   "cell_type": "markdown",
   "metadata": {},
   "source": [
    "> Instead of providing a single list as your input, let's pass in a list of two lists as your input.\n",
    "\n",
    "> Here, let's pass earnings and prices to create a two-dimensional array."
   ]
  },
  {
   "cell_type": "code",
   "execution_count": null,
   "metadata": {},
   "outputs": [],
   "source": [
    "pe_array = np.array([[10.09, 10.28, 2.21, 6.19, 8.24],[99.98, 87.68, 154.23, 162.12, 121.11]])\n",
    "print(pe_array)\n",
    "\n",
    "# Recall that there were two lists of earnings_list and prices_list\n",
    "pe_array2 = np.array([earnings_list, prices_list])\n",
    "print(pe_array2)"
   ]
  },
  {
   "cell_type": "code",
   "execution_count": null,
   "metadata": {},
   "outputs": [],
   "source": [
    "pe_array == pe_array2"
   ]
  },
  {
   "cell_type": "markdown",
   "metadata": {},
   "source": [
    "> You might want to use `boolean` arrays as well. \n",
    "\n",
    "> As you will see below, Boolean arrays are quite useful for subsetting--stay tuned :)"
   ]
  },
  {
   "cell_type": "markdown",
   "metadata": {},
   "source": [
    "#### Methods in Array"
   ]
  },
  {
   "cell_type": "markdown",
   "metadata": {},
   "source": [
    "> Like list, array also has many useful methods."
   ]
  },
  {
   "cell_type": "markdown",
   "metadata": {},
   "source": [
    "##### array.shape"
   ]
  },
  {
   "cell_type": "code",
   "execution_count": null,
   "metadata": {},
   "outputs": [],
   "source": [
    "np.shape(pe_array)"
   ]
  },
  {
   "cell_type": "markdown",
   "metadata": {},
   "source": [
    "##### array.size"
   ]
  },
  {
   "cell_type": "code",
   "execution_count": null,
   "metadata": {},
   "outputs": [],
   "source": [
    "np.size(pe_array)"
   ]
  },
  {
   "cell_type": "markdown",
   "metadata": {},
   "source": [
    "##### array.transpose"
   ]
  },
  {
   "cell_type": "code",
   "execution_count": null,
   "metadata": {},
   "outputs": [],
   "source": [
    "pe_array_transposed = np.transpose(pe_array)"
   ]
  },
  {
   "cell_type": "code",
   "execution_count": null,
   "metadata": {},
   "outputs": [],
   "source": [
    "print(pe_array_transposed)"
   ]
  },
  {
   "cell_type": "code",
   "execution_count": null,
   "metadata": {},
   "outputs": [],
   "source": [
    "print(pe_array_transposed.shape);print(pe_array_transposed.size)"
   ]
  },
  {
   "cell_type": "markdown",
   "metadata": {},
   "source": [
    "> Remember how to subset nested lists? Subsetting two-dimensional arrays is similar to subsetting nested lists. \n",
    "\n",
    "> In a 2D array, the indexing/slicing should be specific to the dimension of the array: **`array[row, column]`**"
   ]
  },
  {
   "cell_type": "markdown",
   "metadata": {},
   "source": [
    "##### How would you subset `earnings` from the `transposed pe_array`? "
   ]
  },
  {
   "cell_type": "code",
   "execution_count": null,
   "metadata": {},
   "outputs": [],
   "source": [
    "earnings = pe_array_transposed[ : , 0]\n",
    "print(earnings)"
   ]
  },
  {
   "cell_type": "markdown",
   "metadata": {},
   "source": [
    "##### How would you subset `prices` from the `transposed pe_array`? "
   ]
  },
  {
   "cell_type": "code",
   "execution_count": null,
   "metadata": {},
   "outputs": [],
   "source": [
    "prices = pe_array_transposed[ : , -1]\n",
    "print(prices)"
   ]
  },
  {
   "cell_type": "markdown",
   "metadata": {},
   "source": [
    "##### How would you subset the `earnings and prices for third and forth companies` from the `transposed pe_array`?"
   ]
  },
  {
   "cell_type": "code",
   "execution_count": null,
   "metadata": {},
   "outputs": [],
   "source": [
    "pe_34 = pe_array_transposed[2:4, : ]\n",
    "print(pe_34)"
   ]
  },
  {
   "cell_type": "markdown",
   "metadata": {},
   "source": [
    "> ***Review & Expansion of Your Vocabulary: Below are some useful basics for array.***"
   ]
  },
  {
   "cell_type": "code",
   "execution_count": null,
   "metadata": {},
   "outputs": [],
   "source": [
    "# Get Dimension\n",
    "pe_array_transposed.ndim"
   ]
  },
  {
   "cell_type": "code",
   "execution_count": null,
   "metadata": {},
   "outputs": [],
   "source": [
    "# Get Shape\n",
    "pe_array_transposed.shape"
   ]
  },
  {
   "cell_type": "code",
   "execution_count": null,
   "metadata": {},
   "outputs": [],
   "source": [
    "# Get Type\n",
    "pe_array_transposed.dtype"
   ]
  },
  {
   "cell_type": "code",
   "execution_count": null,
   "metadata": {},
   "outputs": [],
   "source": [
    "# Get Size (One Element in Your Array)\n",
    "pe_array_transposed.itemsize"
   ]
  },
  {
   "cell_type": "code",
   "execution_count": null,
   "metadata": {},
   "outputs": [],
   "source": [
    "# Get Total Size\n",
    "pe_array_transposed.nbytes"
   ]
  },
  {
   "cell_type": "code",
   "execution_count": null,
   "metadata": {},
   "outputs": [],
   "source": [
    "# Get the Number of Elements\n",
    "pe_array_transposed.size"
   ]
  },
  {
   "cell_type": "code",
   "execution_count": null,
   "metadata": {},
   "outputs": [],
   "source": [
    "# Get a specific element [row, column]\n",
    "pe_array_transposed[1, 1]"
   ]
  },
  {
   "cell_type": "code",
   "execution_count": null,
   "metadata": {},
   "outputs": [],
   "source": [
    "# Get a specific row \n",
    "pe_array[1, :]"
   ]
  },
  {
   "cell_type": "code",
   "execution_count": null,
   "metadata": {},
   "outputs": [],
   "source": [
    "# Get a specific column\n",
    "pe_array[:, 4]"
   ]
  },
  {
   "cell_type": "code",
   "execution_count": null,
   "metadata": {},
   "outputs": [],
   "source": [
    "# Getting a little more fancy [start:end:step]\n",
    "pe_array[0, 1:-1:2]"
   ]
  },
  {
   "cell_type": "markdown",
   "metadata": {},
   "source": [
    "#### `WARNING`: Please be careful when `copying arrays`!"
   ]
  },
  {
   "cell_type": "code",
   "execution_count": null,
   "metadata": {},
   "outputs": [],
   "source": [
    "a = np.array([1,2,3]) # Imagine that we have one array.\n",
    "b = a\n",
    "b[0] = 100\n",
    "\n",
    "print(b) # This is fine.\n",
    "print(a) # This is weird."
   ]
  },
  {
   "cell_type": "code",
   "execution_count": null,
   "metadata": {},
   "outputs": [],
   "source": [
    "c = np.array([1,2,3])\n",
    "d = c.copy() # use copy method \n",
    "d[0] = 100\n",
    "\n",
    "print(c) # Now this will be fine :)"
   ]
  },
  {
   "cell_type": "markdown",
   "metadata": {},
   "source": [
    "### Mathematics with NumPy"
   ]
  },
  {
   "cell_type": "markdown",
   "metadata": {},
   "source": [
    "> **`We all love mathematics`. For a lot more**, [check this out](https://docs.scipy.org/doc/numpy/reference/routines.math.html)."
   ]
  },
  {
   "cell_type": "markdown",
   "metadata": {},
   "source": [
    "- For example, `linear algebra`, look at [here](https://docs.scipy.org/doc/numpy/reference/routines.linalg.html)."
   ]
  },
  {
   "cell_type": "markdown",
   "metadata": {},
   "source": [
    "#### Statistics\n",
    "\n",
    "> Not only can you perform element-wise calculations on NumPy arrays, you can also calculate summary statistics such as range, mean, and standard deviation of arrays using functions from NumPy."
   ]
  },
  {
   "cell_type": "markdown",
   "metadata": {},
   "source": [
    "##### Calculating the range (minimum and maximum values)"
   ]
  },
  {
   "cell_type": "code",
   "execution_count": null,
   "metadata": {},
   "outputs": [],
   "source": [
    "print(pe_array)"
   ]
  },
  {
   "cell_type": "code",
   "execution_count": null,
   "metadata": {},
   "outputs": [],
   "source": [
    "np.min(pe_array)"
   ]
  },
  {
   "cell_type": "code",
   "execution_count": null,
   "metadata": {},
   "outputs": [],
   "source": [
    "np.max(pe_array, axis=1)"
   ]
  },
  {
   "cell_type": "code",
   "execution_count": null,
   "metadata": {},
   "outputs": [],
   "source": [
    "np.sum(pe_array, axis=0)"
   ]
  },
  {
   "cell_type": "markdown",
   "metadata": {},
   "source": [
    "##### Calculating the mean (`mean`) and standard deviation (`std`)"
   ]
  },
  {
   "cell_type": "code",
   "execution_count": null,
   "metadata": {},
   "outputs": [],
   "source": [
    "earnings_mean = np.mean(earnings_array)\n",
    "print(earnings_mean)"
   ]
  },
  {
   "cell_type": "code",
   "execution_count": null,
   "metadata": {},
   "outputs": [],
   "source": [
    "earnings_mean2 = np.mean(pe_array[0,:])\n",
    "earnings_mean == earnings_mean2"
   ]
  },
  {
   "cell_type": "code",
   "execution_count": null,
   "metadata": {},
   "outputs": [],
   "source": [
    "prices_std = np.std(prices_array)\n",
    "print(prices_std)"
   ]
  },
  {
   "cell_type": "code",
   "execution_count": null,
   "metadata": {},
   "outputs": [],
   "source": [
    "prices_std2 = np.std(pe_array[-1,:])\n",
    "prices_std == prices_std2"
   ]
  },
  {
   "cell_type": "markdown",
   "metadata": {},
   "source": [
    "##### Generating a sequence of numbers\n",
    "\n",
    "> Often you may want to create an array of a range of numbers (e.g., 1 to 500) without having to type in every single number. \n",
    "\n",
    "> The NumPy function `arange()` is an efficient way to create numeric arrays of a range of numbers--using arange() can be much faster than typing each individual element.\n",
    "\n",
    "> The arguments for `arange()` include the `start`, `stop`, and `step interval` as follows: `np.arange(start, stop, step)`\n"
   ]
  },
  {
   "cell_type": "code",
   "execution_count": null,
   "metadata": {},
   "outputs": [],
   "source": [
    "ticker_ids = np.arange(1, 501 , 1)\n",
    "print(ticker_ids)"
   ]
  },
  {
   "cell_type": "markdown",
   "metadata": {},
   "source": [
    "> How would you create `odd numbers only`?"
   ]
  },
  {
   "cell_type": "code",
   "execution_count": null,
   "metadata": {},
   "outputs": [],
   "source": [
    "ticker_ids_odd = np.arange(1, 501, 2)\n",
    "print(ticker_ids_odd)"
   ]
  },
  {
   "cell_type": "markdown",
   "metadata": {},
   "source": [
    "> How would you create **`even`** numbers only then? "
   ]
  },
  {
   "cell_type": "code",
   "execution_count": null,
   "metadata": {},
   "outputs": [],
   "source": [
    "ticker_ids_even = ticker_ids_odd + 1\n",
    "print(ticker_ids_even)"
   ]
  },
  {
   "cell_type": "markdown",
   "metadata": {},
   "source": [
    "#### Boolean arrays can be a very powerful way to subset arrays. \n",
    "\n",
    "> As a case in point, let's try to identify the earnings that are greater than average from a list of earnings.\n",
    "\n",
    "> To do so, let's find the mean value of earnings first."
   ]
  },
  {
   "cell_type": "code",
   "execution_count": null,
   "metadata": {},
   "outputs": [],
   "source": [
    "earnings_mean = np.mean(earnings_array)"
   ]
  },
  {
   "cell_type": "markdown",
   "metadata": {},
   "source": [
    "##### How would you index earnings that are lesser than average\n",
    "\n",
    "> Hint: You might want to create a boolean array first."
   ]
  },
  {
   "cell_type": "code",
   "execution_count": null,
   "metadata": {},
   "outputs": [],
   "source": [
    "boolean_array = (earnings_array < earnings_mean)\n",
    "print(boolean_array)"
   ]
  },
  {
   "cell_type": "code",
   "execution_count": null,
   "metadata": {},
   "outputs": [],
   "source": [
    "earnings_below_mean = earnings[boolean_array]\n",
    "print(earnings_below_mean)"
   ]
  },
  {
   "cell_type": "code",
   "execution_count": null,
   "metadata": {},
   "outputs": [],
   "source": [
    "earnings_below_mean2 = earnings[earnings_array < earnings_mean]\n",
    "earnings_below_mean == earnings_below_mean2"
   ]
  },
  {
   "cell_type": "markdown",
   "metadata": {},
   "source": [
    "> Boolean array can be used for strings as well. \n",
    "\n",
    "> Let's create the names of companies with their associated industry first. \n",
    "\n",
    "> Here, your want to find all companies that are categorized as `Investment Services` industry."
   ]
  },
  {
   "cell_type": "code",
   "execution_count": null,
   "metadata": {},
   "outputs": [],
   "source": [
    "company_array = np.array([\"Facebook\", \"Amazon\", \"Goldman Sachs\", \"Red Bull\", \n",
    "                         \"Wells Fargo\", \"McKinsey\", \"Tesla\"])\n",
    "industry_array = np.array([\"Internet\", \"Internet\", \"Investment Services\", \"Food & Beverage\", \n",
    "                          \"Investment Services\", \"Management Consulting\", \"Mobility\"])\n",
    "\n",
    "company_industry_array = np.array([company_array, industry_array])\n",
    "print(company_industry_array)"
   ]
  },
  {
   "cell_type": "markdown",
   "metadata": {},
   "source": [
    "##### How would you subset Investment Services industry and print companies in Investment Servecies?"
   ]
  },
  {
   "cell_type": "code",
   "execution_count": null,
   "metadata": {},
   "outputs": [],
   "source": [
    "bool_array = (industry_array == \"Investment Services\")\n",
    "print(bool_array)"
   ]
  },
  {
   "cell_type": "code",
   "execution_count": null,
   "metadata": {},
   "outputs": [],
   "source": [
    "investment_services = company_array[bool_array]\n",
    "print(investment_services)"
   ]
  },
  {
   "cell_type": "markdown",
   "metadata": {},
   "source": [
    "> For your information, there is numpy_financial package that contains a collection of elementary financial functions. \n",
    "\n",
    "> It will make your life easier when working with financial values.\n",
    "\n",
    "> For example, the function .pv(rate, nper, pmt, fv) allows you to calculate the present value of an investment with some parameters:\n",
    "\n",
    "- `rate` The rate of return of the investment\n",
    "- `nper` The lifespan of the investment\n",
    "- `pmt` The (fixed) payment at the beginning or end of each period\n",
    "- `fv` The future value of the investment\n",
    "\n",
    "> You can use this formula in many ways (e.g., you can calculate the present value of future investments in today's dollars)."
   ]
  },
  {
   "cell_type": "code",
   "execution_count": null,
   "metadata": {},
   "outputs": [],
   "source": [
    "import numpy_financial as npf"
   ]
  },
  {
   "cell_type": "markdown",
   "metadata": {},
   "source": [
    "> Before you run the code above, you should have installed the package `numpy-financial`."
   ]
  },
  {
   "cell_type": "code",
   "execution_count": null,
   "metadata": {},
   "outputs": [],
   "source": [
    "your_investment = npf.pv(rate=0.04, nper=20, pmt=0, fv=15000)"
   ]
  },
  {
   "cell_type": "markdown",
   "metadata": {},
   "source": [
    "> Here, the present value returned is negative, so we multiply the result by -1"
   ]
  },
  {
   "cell_type": "code",
   "execution_count": null,
   "metadata": {},
   "outputs": [],
   "source": [
    "print(\"Your Investment is worth \" + str(round(-your_investment, 2)) + \" in today's dollars\")"
   ]
  },
  {
   "cell_type": "code",
   "execution_count": null,
   "metadata": {},
   "outputs": [],
   "source": [
    "your_friend_investment = npf.pv(rate=0.02, nper=40, pmt=0, fv=15000)\n",
    "print(\"Your friend's investment is worth \" + str(round(-your_friend_investment, 2)) + \" in today's dollars\")"
   ]
  },
  {
   "cell_type": "markdown",
   "metadata": {},
   "source": [
    "> Similarly, you can also calculate the future value of an investment the following parameters:\n",
    "\n",
    "- `rate` The rate of return of the investment\n",
    "- `nper` The lifespan of the investment\n",
    "- `pmt` The (fixed) payment at the beginning or end of each period (which is 0 in our example)\n",
    "- `pv` The present value of the investment\n",
    "\n",
    "> Here, you can use the function .fv(rate, nper, pmt, pv).\n",
    "\n",
    "> Note that you should `input a negative value into the pv parameter` if it represents `a negative cash flow (cash going out)`. \n",
    "\n",
    "> That is, if you were to compute the future value of an investment, requiring an up-front cash payment, you would need to `input a negative value to the pv parameter` in the function .fv()."
   ]
  },
  {
   "cell_type": "markdown",
   "metadata": {},
   "source": [
    "# Estimate Your Investment's Future Value"
   ]
  },
  {
   "cell_type": "code",
   "execution_count": null,
   "metadata": {},
   "outputs": [],
   "source": [
    "your_investment_future = npf.fv(rate=0.04, nper=20, pmt=0, pv=-20000)\n",
    "print(\"Your investment will return a total of $\" + str(round(your_investment_future, 2)) + \" in 20 years\")"
   ]
  },
  {
   "cell_type": "markdown",
   "metadata": {},
   "source": [
    "# Estimate the Future Value of Your Friend's Investment"
   ]
  },
  {
   "cell_type": "code",
   "execution_count": null,
   "metadata": {},
   "outputs": [],
   "source": [
    "your_friend_investment_future = npf.fv(rate=0.08, nper=20, pmt=0, pv=-20000)\n",
    "print(\"The future value of your friend's investment will return a total of $\" + str(round(your_friend_investment_future, 2)) + \" in 20 years\")"
   ]
  },
  {
   "cell_type": "markdown",
   "metadata": {},
   "source": [
    "##### Now let's adjust future values of your investment for inflation with the following steps:\n",
    "\n",
    "**1. forecast the future value of an investment given a rate of return**\n",
    "\n",
    "**2. discount the future value of the investment by a projected inflation rate**\n",
    "\n",
    "> Here, we will `utilize both functions .fv() and .pv()` to estimate the projected value of a given investment in today's dollars, adjusted for inflation."
   ]
  },
  {
   "cell_type": "markdown",
   "metadata": {},
   "source": [
    "> ***Scenario***: `Investment returning 7% per year for 25 years`"
   ]
  },
  {
   "cell_type": "code",
   "execution_count": null,
   "metadata": {},
   "outputs": [],
   "source": [
    "your_brother_investment = npf.fv(rate=0.07, nper=25, pmt=0, pv=-15000)\n",
    "print(\"Your brother's investment will return a total of $\" + str(round(your_brother_investment, 2)) + \" in 25 years\")"
   ]
  },
  {
   "cell_type": "markdown",
   "metadata": {},
   "source": [
    "> ***Scenario***: `Inflation rate of 2.5% per year for 25 years`"
   ]
  },
  {
   "cell_type": "code",
   "execution_count": null,
   "metadata": {},
   "outputs": [],
   "source": [
    "your_brother_investment_discounted = npf.pv(rate=0.025, nper=25, pmt=0, fv=your_brother_investment)\n",
    "print(\"After adjusting for inflation, your brother's investment is worth $\" + str(round(-your_brother_investment_discounted, 2)) + \" in today's dollars\")"
   ]
  },
  {
   "cell_type": "markdown",
   "metadata": {},
   "source": [
    "> `Thank you for working with the script :)`"
   ]
  },
  {
   "cell_type": "code",
   "execution_count": null,
   "metadata": {},
   "outputs": [],
   "source": [
    "exit()"
   ]
  }
 ],
 "metadata": {
  "kernelspec": {
   "display_name": "Python 3",
   "language": "python",
   "name": "python3"
  },
  "language_info": {
   "codemirror_mode": {
    "name": "ipython",
    "version": 3
   },
   "file_extension": ".py",
   "mimetype": "text/x-python",
   "name": "python",
   "nbconvert_exporter": "python",
   "pygments_lexer": "ipython3",
   "version": "3.8.3"
  }
 },
 "nbformat": 4,
 "nbformat_minor": 4
}
