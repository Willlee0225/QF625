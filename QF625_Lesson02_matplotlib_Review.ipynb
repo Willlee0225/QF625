{
 "cells": [
  {
   "cell_type": "markdown",
   "metadata": {},
   "source": [
    "# QF 625 Introduction to Programming\n",
    "## Lesson 2 | An Introduction to `matplotlib` (featuring `SciPy`) | `RE`view"
   ]
  },
  {
   "cell_type": "markdown",
   "metadata": {},
   "source": [
    "> Here we go again :) Let's begin our second half of the lesson.\n",
    "\n",
    "> Data visualization is a critical process within a workflow of your analysis of financial data.\n",
    "\n",
    "> Visualization of your data is important when you share your analysis and findings with your internal and external stakeholders.\n",
    "\n",
    "> `matplotlib` is the most popular and widely used package in Python for data visualization.\n"
   ]
  },
  {
   "cell_type": "markdown",
   "metadata": {},
   "source": [
    "![](matplotlib.png)"
   ]
  },
  {
   "cell_type": "code",
   "execution_count": null,
   "metadata": {},
   "outputs": [],
   "source": [
    "import numpy as np"
   ]
  },
  {
   "cell_type": "code",
   "execution_count": null,
   "metadata": {},
   "outputs": [],
   "source": [
    "import matplotlib.pyplot as plt\n",
    "# from matplotlib import pyplot as plt"
   ]
  },
  {
   "cell_type": "markdown",
   "metadata": {},
   "source": [
    "### Importing matplotlib and pyplot\n",
    "\n",
    "> `Pyplot` is a collection of functions in the popular visualization package Matplotlib. \n",
    "\n",
    "> Its functions manipulate elements of a figure as follows:\n",
    "\n",
    "- creating a figure, \n",
    "- creating a plotting area, plotting lines, plotting observations (data points)\n",
    "- adding plot labels\n",
    "\n",
    "> Let's use function `plot()` from `pyplot` to create a dashed line graph showing the pattern of a company's stock price.\n",
    "\n",
    "> You can change the color of the line by adding the `argument color` and the linestlye by adding the `argument linestyle`."
   ]
  },
  {
   "cell_type": "markdown",
   "metadata": {},
   "source": [
    "##### Let's create two arrays: one array contains the first 100 days since IPO; another contains the stock price on each day since IPO."
   ]
  },
  {
   "cell_type": "markdown",
   "metadata": {},
   "source": [
    "##### How would you create the two arrays?"
   ]
  },
  {
   "cell_type": "code",
   "execution_count": null,
   "metadata": {},
   "outputs": [],
   "source": [
    "x = np.arange(1, 101, 1)\n",
    "y = np.arange(1, 1001, 10)/3\n",
    "print(x);print(y)"
   ]
  },
  {
   "cell_type": "code",
   "execution_count": null,
   "metadata": {},
   "outputs": [],
   "source": [
    "plt.plot(x, y)\n",
    "plt.show()"
   ]
  },
  {
   "cell_type": "code",
   "execution_count": null,
   "metadata": {},
   "outputs": [],
   "source": [
    "plt.plot(x, y, color = \"red\", linestyle = \"--\")\n",
    "plt.show()"
   ]
  },
  {
   "cell_type": "markdown",
   "metadata": {},
   "source": [
    "#### Adding axis labels and titles\n",
    "\n",
    "> You might want to add labels to your plot so it's clear to other people what information it is trying to convey. \n",
    "\n",
    "> Let's add labels to the plot you created in the last one."
   ]
  },
  {
   "cell_type": "code",
   "execution_count": null,
   "metadata": {},
   "outputs": [],
   "source": [
    "plt.plot(x, y, color = \"purple\", linestyle = \"-\")\n",
    "plt.xlabel(\"The number of days since IPO\")\n",
    "plt.ylabel(\"The price of the stock corresponding to days\")\n",
    "plt.title(\"A Company's Stock Prices During the First 100 days since IPO\")\n",
    "plt.show()"
   ]
  },
  {
   "cell_type": "markdown",
   "metadata": {},
   "source": [
    "#### Overlyaing lines on the same plot\n",
    "\n",
    "> Often you are in need to plot multiple groups as different lines. \n",
    "\n",
    "> To do so, execute the function plot() multiple times. \n",
    "\n",
    "> Let's plot the stocks of two companies over time."
   ]
  },
  {
   "cell_type": "markdown",
   "metadata": {},
   "source": [
    "##### Is there a way that we can generate 100 random integers that represent a company's fictitious stock prices?"
   ]
  },
  {
   "cell_type": "code",
   "execution_count": null,
   "metadata": {},
   "outputs": [],
   "source": [
    "z = np.random.randint(1, 400, 100)\n",
    "print(z)"
   ]
  },
  {
   "cell_type": "markdown",
   "metadata": {},
   "source": [
    "> Random decimal numbers?"
   ]
  },
  {
   "cell_type": "code",
   "execution_count": null,
   "metadata": {},
   "outputs": [],
   "source": [
    "np.random.rand(100)"
   ]
  },
  {
   "cell_type": "markdown",
   "metadata": {},
   "source": [
    "> Let's create a plot with two lines."
   ]
  },
  {
   "cell_type": "code",
   "execution_count": null,
   "metadata": {},
   "outputs": [],
   "source": [
    "plt.plot(x, y, color = \"red\")\n",
    "plt.plot(x, z, color = \"blue\")\n",
    "\n",
    "plt.title(\"A Company's Stock Prices During the First 100 days since IPO\")\n",
    "plt.xlabel(\"The number of days since IPO\")\n",
    "plt.ylabel(\"The prices of the stocks corresponding to days\")\n",
    "plt.legend([\"Company A\", \"Company B\"])\n",
    "plt.show()"
   ]
  },
  {
   "cell_type": "markdown",
   "metadata": {},
   "source": [
    "#### Scatter Plots\n",
    "\n",
    "> The pyplot module can also be used to make other types of plots, like scatter plots. \n",
    "\n",
    "> Now, let's create a scatterplot of the companies stock prices over time."
   ]
  },
  {
   "cell_type": "code",
   "execution_count": null,
   "metadata": {},
   "outputs": [],
   "source": [
    "plt.scatter(x, y, color = \"red\", label = \"Company A\")\n",
    "plt.scatter(x, z, color = \"blue\", label = \"Company B\")\n",
    "\n",
    "plt.title(\"A Company's Stock Prices During the First 100 days since IPO\")\n",
    "plt.xlabel(\"The number of days since IPO\")\n",
    "plt.ylabel(\"The prices of the stocks corresponding to days\")\n",
    "plt.legend()\n",
    "plt.show()"
   ]
  },
  {
   "cell_type": "markdown",
   "metadata": {},
   "source": [
    "> If you still wish to use function plot() for the scatter plots, there's a way :)"
   ]
  },
  {
   "cell_type": "code",
   "execution_count": null,
   "metadata": {},
   "outputs": [],
   "source": [
    "plt.plot(x, y, \"o\")\n",
    "plt.plot(x, z, \"o\")\n",
    "\n",
    "plt.title(\"A Company's Stock Prices During the First 100 days since IPO\")\n",
    "plt.xlabel(\"The number of days since IPO\")\n",
    "plt.ylabel(\"The prices of the stocks corresponding to days\")\n",
    "plt.legend([\"Company A\", \"Company B\"], loc = \"upper right\")\n",
    "plt.show()"
   ]
  },
  {
   "cell_type": "markdown",
   "metadata": {},
   "source": [
    "### The Curious Case of Anscombe's Quartet \n",
    "### ***or Why Data Visualization Matters in Statistical Modeling of Financial Data***\n",
    "\n",
    "> Let’s consider here that you have received four datasets from four industries. \n",
    "\n",
    "> Each dataset contains companies within their respective industry. \n",
    "\n",
    "> You intend to analyze the relationship within each dataset regarding companies’ growth indicator and prices-to-earnings ratio to detect the relationships between the two variables.\n"
   ]
  },
  {
   "cell_type": "code",
   "execution_count": null,
   "metadata": {},
   "outputs": [],
   "source": [
    "from matplotlib.pyplot import subplot, scatter, plot, axis\n",
    "from scipy.stats import linregress"
   ]
  },
  {
   "cell_type": "markdown",
   "metadata": {},
   "source": [
    "> Suppose that you have the following datasets."
   ]
  },
  {
   "cell_type": "code",
   "execution_count": null,
   "metadata": {},
   "outputs": [],
   "source": [
    "company_growth_1 = [10.0, 8.0,  13.0,  9.0,  11.0, 14.0, 6.0,  4.0,  12.0,  7.0,  5.0]\n",
    "pe_ratio_1 = [8.04, 6.95, 7.58,  8.81, 8.33, 9.96, 7.24, 4.26, 10.84, 4.82, 5.68]\n",
    "\n",
    "company_growth_2 = [10.0, 8.0,  13.0,  9.0,  11.0, 14.0, 6.0,  4.0,  12.0,  7.0,  5.0]\n",
    "pe_ratio_2 = [9.14, 8.14, 8.74,  8.77, 9.26, 8.10, 6.13, 3.10, 9.13,  7.26, 4.74]\n",
    "\n",
    "company_growth_3 = [10.0, 8.0,  13.0,  9.0,  11.0, 14.0, 6.0,  4.0,  12.0,  7.0,  5.0]\n",
    "pe_ratio_3 = [7.46, 6.77, 12.74, 7.11, 7.81, 8.84, 6.08, 5.39, 8.15,  6.42, 5.73]\n",
    "\n",
    "company_growth_4 = [8.0,  8.0,  8.0,   8.0,  8.0,  8.0,  8.0,  19.0,  8.0,  8.0,  8.0]\n",
    "pe_ratio_4 = [6.58, 5.76, 7.71,  8.84, 8.47, 7.04, 5.25, 12.50, 5.56, 7.91, 6.89]"
   ]
  },
  {
   "cell_type": "markdown",
   "metadata": {},
   "source": [
    "> Let's perform a quick regression analysis."
   ]
  },
  {
   "cell_type": "code",
   "execution_count": null,
   "metadata": {},
   "outputs": [],
   "source": [
    "slope, intercept, r_value, p_value, std_err = linregress(company_growth_1, pe_ratio_1)\n",
    "print(\"{0:.3f} {1:.2f} {2:.3f} {3:.3f} {4:.3f}\".format(slope, intercept, r_value, p_value, std_err))\n",
    "slope, intercept, r_value, p_value, std_err = linregress(company_growth_2, pe_ratio_2)\n",
    "print(\"{0:.3f} {1:.2f} {2:.3f} {3:.3f} {4:.3f}\".format(slope, intercept, r_value, p_value, std_err))\n",
    "slope, intercept, r_value, p_value, std_err = linregress(company_growth_3, pe_ratio_3)\n",
    "print(\"{0:.3f} {1:.2f} {2:.3f} {3:.3f} {4:.3f}\".format(slope, intercept, r_value, p_value, std_err))\n",
    "slope, intercept, r_value, p_value, std_err = linregress(company_growth_4, pe_ratio_4)\n",
    "print(\"{0:.3f} {1:.2f} {2:.3f} {3:.3f} {4:.3f}\".format(slope, intercept, r_value, p_value, std_err))"
   ]
  },
  {
   "cell_type": "markdown",
   "metadata": {},
   "source": [
    "> The regression line in each case is the interesting thing about these four datasets as all four have the same summary statistics. \n",
    "\n",
    "> That is, they have the same mean of X, the same variance of X, the same mean of Y, the same variance of Y, the same correlation, the same slope of the line, and the same intercept of the line, so the summary statistics for all four datasets are the same.\n",
    "\n",
    "> Now, let's visualize your data, along with the regression modeling results."
   ]
  },
  {
   "cell_type": "code",
   "execution_count": null,
   "metadata": {},
   "outputs": [],
   "source": [
    "xmax = 20\n",
    "ymax = 20\n",
    "\n",
    "plt.title('Data Visualization Helps Your Turn Data into Insights', fontdict={\"fontname\": \"Comic Sans MS\", \"fontsize\": 20})\n",
    "\n",
    "ax1 = subplot(2, 2, 1)\n",
    "scatter(company_growth_1, pe_ratio_1)\n",
    "slope, intercept, r_value, p_value, std_err = linregress(company_growth_1, pe_ratio_1)\n",
    "plot([0, xmax], [intercept, slope * xmax + intercept])\n",
    "print(\"{0:.3f} {1:.2f} {2:.3f} {3:.3f} {4:.3f}\".format(slope, intercept, r_value, p_value, std_err))\n",
    "\n",
    "subplot(2, 2, 2, sharex=ax1, sharey=ax1)\n",
    "scatter(company_growth_2, pe_ratio_2)\n",
    "slope, intercept, r_value, p_value, std_err = linregress(company_growth_2, pe_ratio_2)\n",
    "plot([0, xmax], [intercept, slope * xmax + intercept])\n",
    "print(\"{0:.3f} {1:.2f} {2:.3f} {3:.3f} {4:.3f}\".format(slope, intercept, r_value, p_value, std_err))\n",
    "\n",
    "subplot(2, 2, 3, sharex=ax1, sharey=ax1)\n",
    "scatter(company_growth_3, pe_ratio_3)\n",
    "slope, intercept, r_value, p_value, std_err = linregress(company_growth_3, pe_ratio_3)\n",
    "plot([0, xmax], [intercept, slope * xmax + intercept])\n",
    "print(\"{0:.3f} {1:.2f} {2:.3f} {3:.3f} {4:.3f}\".format(slope, intercept, r_value, p_value, std_err))\n",
    "\n",
    "subplot(2, 2, 4, sharex=ax1, sharey=ax1)\n",
    "scatter(company_growth_4, pe_ratio_4)\n",
    "slope, intercept, r_value, p_value, std_err = linregress(company_growth_4, pe_ratio_4)\n",
    "plot([0, xmax], [intercept, slope * xmax + intercept])\n",
    "print(\"{0:.3f} {1:.2f} {2:.3f} {3:.3f} {4:.3f}\".format(slope, intercept, r_value, p_value, std_err))\n",
    "\n",
    "axis([0, xmax, 0, ymax])"
   ]
  },
  {
   "cell_type": "markdown",
   "metadata": {},
   "source": [
    "> The lesson here is simply that summary statistics don’t tell the whole story. \n",
    "\n",
    "> Imagine if we were to look only at the output of these four datasets for a simple linear regression. \n",
    "\n",
    "> Everything would look exactly the same, but the reality of the situation is that things are very different."
   ]
  },
  {
   "cell_type": "markdown",
   "metadata": {},
   "source": [
    "> **Visualizing your data will give you a deeper understanding about quantitative information that you might think you know but you were not aware of: namely, `data visualization helps transform data into insights`.**"
   ]
  },
  {
   "cell_type": "markdown",
   "metadata": {},
   "source": [
    "### Histogram"
   ]
  },
  {
   "cell_type": "markdown",
   "metadata": {},
   "source": [
    "> A `histogram` is an efficient visualization toolkit `to examine whether your data is normally distributed`, or centered around the mean.\n",
    "\n",
    "> Let's create one."
   ]
  },
  {
   "cell_type": "code",
   "execution_count": null,
   "metadata": {},
   "outputs": [],
   "source": [
    "plt.hist(z, bins = 10, color =\"purple\")\n",
    "plt.show()"
   ]
  },
  {
   "cell_type": "markdown",
   "metadata": {},
   "source": [
    "> Histograms can also be used to compare the distributions of multiple datasets. \n",
    "\n",
    "> Let's compare the performance of two different stocks to find out which stock has more fluctuation."
   ]
  },
  {
   "cell_type": "markdown",
   "metadata": {},
   "source": [
    "##### How would you create two arrays that contain 365 random integers?"
   ]
  },
  {
   "cell_type": "code",
   "execution_count": null,
   "metadata": {},
   "outputs": [],
   "source": [
    "company_a = np.random.randint(50, 200, 365)\n",
    "company_b = np.random.randint(30, 250, 365)"
   ]
  },
  {
   "cell_type": "code",
   "execution_count": null,
   "metadata": {},
   "outputs": [],
   "source": [
    "plt.hist(company_a, bins = 50, alpha = 0.5, color = \"blue\")\n",
    "plt.hist(company_b, bins = 50, alpha = 0.5, color = \"orange\")\n",
    "plt.show()"
   ]
  },
  {
   "cell_type": "markdown",
   "metadata": {},
   "source": [
    "> Again, you can add a legend here.\n",
    "\n",
    "> Legend will be useful when plotting multiple datasets to identify which plot is associated with a specific dataset.\n",
    "\n",
    "> To add a legend, you can use the label argument. \n",
    "\n",
    "> To display the legend on the plot, you can use the function `plt.legend()`."
   ]
  },
  {
   "cell_type": "code",
   "execution_count": null,
   "metadata": {},
   "outputs": [],
   "source": [
    "plt.hist(company_a, bins = 80, alpha = 0.5, color = \"purple\", label = \"Company A\")\n",
    "plt.hist(company_b, bins = 80, alpha = 0.5, color = \"grey\", label = \"Company B\")\n",
    "plt.legend()\n",
    "plt.show()"
   ]
  },
  {
   "cell_type": "markdown",
   "metadata": {},
   "source": [
    "### Bar Chart"
   ]
  },
  {
   "cell_type": "code",
   "execution_count": null,
   "metadata": {},
   "outputs": [],
   "source": [
    "tickers = [\"AAPL\", \"MSFT\", \"GOOGL\"]\n",
    "values = [459.63, 208.90, 1504.63]\n",
    "\n",
    "plt.figure(figsize=(7,5), dpi=100)\n",
    "\n",
    "bars = plt.bar(tickers, values, color = (\"red\", \"blue\", \"green\"))\n",
    "\n",
    "plt.show()"
   ]
  },
  {
   "cell_type": "code",
   "execution_count": null,
   "metadata": {},
   "outputs": [],
   "source": [
    "plt.figure(figsize=(10,8), dpi=100)\n",
    "\n",
    "bars = plt.bar(tickers, values, color = (\"red\", \"blue\", \"green\"))\n",
    "\n",
    "patterns = [\"/\", \"O\", \"*\"]\n",
    "\n",
    "for bar in bars:\n",
    "    bar.set_hatch(patterns.pop(0))\n",
    "\n",
    "plt.savefig(\"barchart.png\", dpi=300)\n",
    "\n",
    "plt.show()"
   ]
  },
  {
   "cell_type": "markdown",
   "metadata": {},
   "source": [
    "> `Thank you for working with the script :)`"
   ]
  },
  {
   "cell_type": "code",
   "execution_count": null,
   "metadata": {},
   "outputs": [],
   "source": [
    "exit()"
   ]
  }
 ],
 "metadata": {
  "kernelspec": {
   "display_name": "Python 3",
   "language": "python",
   "name": "python3"
  },
  "language_info": {
   "codemirror_mode": {
    "name": "ipython",
    "version": 3
   },
   "file_extension": ".py",
   "mimetype": "text/x-python",
   "name": "python",
   "nbconvert_exporter": "python",
   "pygments_lexer": "ipython3",
   "version": "3.8.3"
  }
 },
 "nbformat": 4,
 "nbformat_minor": 4
}
